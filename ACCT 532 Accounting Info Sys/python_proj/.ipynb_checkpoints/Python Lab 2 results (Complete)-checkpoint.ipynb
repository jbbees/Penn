{
 "cells": [
  {
   "cell_type": "code",
   "execution_count": 1,
   "metadata": {
    "scrolled": true
   },
   "outputs": [
    {
     "name": "stdout",
     "output_type": "stream",
     "text": [
      "C:\\Users\\jakel\\Desktop\\python_proj\n",
      "C:\\Users\\jakel\\Desktop\\python_proj\n"
     ]
    }
   ],
   "source": [
    "import os\n",
    "# Find out your current working directory\n",
    "print(os.getcwd())\n",
    "\n",
    "# Change the current working directory\n",
    "os.chdir('C:\\\\Users\\\\jakel\\\\Desktop\\\\python_proj')\n",
    "print (os.getcwd())"
   ]
  },
  {
   "cell_type": "code",
   "execution_count": 2,
   "metadata": {
    "scrolled": true
   },
   "outputs": [
    {
     "data": {
      "text/html": [
       "<div>\n",
       "<style scoped>\n",
       "    .dataframe tbody tr th:only-of-type {\n",
       "        vertical-align: middle;\n",
       "    }\n",
       "\n",
       "    .dataframe tbody tr th {\n",
       "        vertical-align: top;\n",
       "    }\n",
       "\n",
       "    .dataframe thead th {\n",
       "        text-align: right;\n",
       "    }\n",
       "</style>\n",
       "<table border=\"1\" class=\"dataframe\">\n",
       "  <thead>\n",
       "    <tr style=\"text-align: right;\">\n",
       "      <th></th>\n",
       "      <th>Date</th>\n",
       "      <th>JE#</th>\n",
       "      <th>Account Name</th>\n",
       "      <th>Debit</th>\n",
       "      <th>Credit</th>\n",
       "      <th>Entered</th>\n",
       "      <th>Approved</th>\n",
       "      <th>Unnamed: 7</th>\n",
       "      <th>Unnamed: 8</th>\n",
       "      <th>Unnamed: 9</th>\n",
       "    </tr>\n",
       "  </thead>\n",
       "  <tbody>\n",
       "    <tr>\n",
       "      <th>0</th>\n",
       "      <td>2022-01-03</td>\n",
       "      <td>0</td>\n",
       "      <td>Cash</td>\n",
       "      <td>50000.0</td>\n",
       "      <td>NaN</td>\n",
       "      <td>VR</td>\n",
       "      <td>AC</td>\n",
       "      <td>NaN</td>\n",
       "      <td>NaN</td>\n",
       "      <td>NaN</td>\n",
       "    </tr>\n",
       "    <tr>\n",
       "      <th>1</th>\n",
       "      <td>2022-01-03</td>\n",
       "      <td>0</td>\n",
       "      <td>Common Stock</td>\n",
       "      <td>NaN</td>\n",
       "      <td>50000.0</td>\n",
       "      <td>VR</td>\n",
       "      <td>AC</td>\n",
       "      <td>NaN</td>\n",
       "      <td>NaN</td>\n",
       "      <td>NaN</td>\n",
       "    </tr>\n",
       "    <tr>\n",
       "      <th>2</th>\n",
       "      <td>2022-01-03</td>\n",
       "      <td>1</td>\n",
       "      <td>Travel Expense</td>\n",
       "      <td>250.0</td>\n",
       "      <td>NaN</td>\n",
       "      <td>VR</td>\n",
       "      <td>AC</td>\n",
       "      <td>NaN</td>\n",
       "      <td>NaN</td>\n",
       "      <td>NaN</td>\n",
       "    </tr>\n",
       "    <tr>\n",
       "      <th>3</th>\n",
       "      <td>2022-01-03</td>\n",
       "      <td>1</td>\n",
       "      <td>Cash</td>\n",
       "      <td>NaN</td>\n",
       "      <td>250.0</td>\n",
       "      <td>VR</td>\n",
       "      <td>AC</td>\n",
       "      <td>NaN</td>\n",
       "      <td>NaN</td>\n",
       "      <td>NaN</td>\n",
       "    </tr>\n",
       "    <tr>\n",
       "      <th>4</th>\n",
       "      <td>2022-01-03</td>\n",
       "      <td>2</td>\n",
       "      <td>Building</td>\n",
       "      <td>32000.0</td>\n",
       "      <td>NaN</td>\n",
       "      <td>VR</td>\n",
       "      <td>AC</td>\n",
       "      <td>NaN</td>\n",
       "      <td>NaN</td>\n",
       "      <td>NaN</td>\n",
       "    </tr>\n",
       "  </tbody>\n",
       "</table>\n",
       "</div>"
      ],
      "text/plain": [
       "        Date  JE#   Account Name     Debit   Credit Entered Approved  \\\n",
       "0 2022-01-03    0            Cash  50000.0      NaN      VR       AC   \n",
       "1 2022-01-03    0    Common Stock      NaN  50000.0      VR       AC   \n",
       "2 2022-01-03    1  Travel Expense    250.0      NaN      VR       AC   \n",
       "3 2022-01-03    1            Cash      NaN    250.0      VR       AC   \n",
       "4 2022-01-03    2        Building  32000.0      NaN      VR       AC   \n",
       "\n",
       "   Unnamed: 7  Unnamed: 8  Unnamed: 9  \n",
       "0         NaN         NaN         NaN  \n",
       "1         NaN         NaN         NaN  \n",
       "2         NaN         NaN         NaN  \n",
       "3         NaN         NaN         NaN  \n",
       "4         NaN         NaN         NaN  "
      ]
     },
     "execution_count": 2,
     "metadata": {},
     "output_type": "execute_result"
    }
   ],
   "source": [
    "import pandas as pd\n",
    "\n",
    "# Read-in Excel file and point to the first worksheet\n",
    "Seg = pd.read_excel (r'Lab 2 Data.xlsx', sheet_name='Sheet 1')       \n",
    "\n",
    "Seg.head(5)   # displays first 5 rows. "
   ]
  },
  {
   "cell_type": "code",
   "execution_count": 3,
   "metadata": {},
   "outputs": [
    {
     "data": {
      "text/html": [
       "<div>\n",
       "<style scoped>\n",
       "    .dataframe tbody tr th:only-of-type {\n",
       "        vertical-align: middle;\n",
       "    }\n",
       "\n",
       "    .dataframe tbody tr th {\n",
       "        vertical-align: top;\n",
       "    }\n",
       "\n",
       "    .dataframe thead th {\n",
       "        text-align: right;\n",
       "    }\n",
       "</style>\n",
       "<table border=\"1\" class=\"dataframe\">\n",
       "  <thead>\n",
       "    <tr style=\"text-align: right;\">\n",
       "      <th></th>\n",
       "      <th>Date</th>\n",
       "      <th>JE#</th>\n",
       "      <th>Account Name</th>\n",
       "      <th>Debit</th>\n",
       "      <th>Credit</th>\n",
       "      <th>Entered</th>\n",
       "      <th>Approved</th>\n",
       "    </tr>\n",
       "  </thead>\n",
       "  <tbody>\n",
       "    <tr>\n",
       "      <th>0</th>\n",
       "      <td>2022-01-03</td>\n",
       "      <td>0</td>\n",
       "      <td>Cash</td>\n",
       "      <td>50000.0</td>\n",
       "      <td>NaN</td>\n",
       "      <td>VR</td>\n",
       "      <td>AC</td>\n",
       "    </tr>\n",
       "    <tr>\n",
       "      <th>1</th>\n",
       "      <td>2022-01-03</td>\n",
       "      <td>0</td>\n",
       "      <td>Common Stock</td>\n",
       "      <td>NaN</td>\n",
       "      <td>50000.0</td>\n",
       "      <td>VR</td>\n",
       "      <td>AC</td>\n",
       "    </tr>\n",
       "    <tr>\n",
       "      <th>2</th>\n",
       "      <td>2022-01-03</td>\n",
       "      <td>1</td>\n",
       "      <td>Travel Expense</td>\n",
       "      <td>250.0</td>\n",
       "      <td>NaN</td>\n",
       "      <td>VR</td>\n",
       "      <td>AC</td>\n",
       "    </tr>\n",
       "    <tr>\n",
       "      <th>3</th>\n",
       "      <td>2022-01-03</td>\n",
       "      <td>1</td>\n",
       "      <td>Cash</td>\n",
       "      <td>NaN</td>\n",
       "      <td>250.0</td>\n",
       "      <td>VR</td>\n",
       "      <td>AC</td>\n",
       "    </tr>\n",
       "    <tr>\n",
       "      <th>4</th>\n",
       "      <td>2022-01-03</td>\n",
       "      <td>2</td>\n",
       "      <td>Building</td>\n",
       "      <td>32000.0</td>\n",
       "      <td>NaN</td>\n",
       "      <td>VR</td>\n",
       "      <td>AC</td>\n",
       "    </tr>\n",
       "  </tbody>\n",
       "</table>\n",
       "</div>"
      ],
      "text/plain": [
       "        Date  JE#   Account Name     Debit   Credit Entered Approved\n",
       "0 2022-01-03    0            Cash  50000.0      NaN      VR       AC\n",
       "1 2022-01-03    0    Common Stock      NaN  50000.0      VR       AC\n",
       "2 2022-01-03    1  Travel Expense    250.0      NaN      VR       AC\n",
       "3 2022-01-03    1            Cash      NaN    250.0      VR       AC\n",
       "4 2022-01-03    2        Building  32000.0      NaN      VR       AC"
      ]
     },
     "execution_count": 3,
     "metadata": {},
     "output_type": "execute_result"
    }
   ],
   "source": [
    "# Data-Cleanup: Eliminate useless columns\n",
    "Seg.drop(columns=['Unnamed: 7', 'Unnamed: 8', 'Unnamed: 9'], inplace=True)  #inplace = True will brute force changes.\n",
    "Seg.head(5)"
   ]
  },
  {
   "cell_type": "code",
   "execution_count": 4,
   "metadata": {},
   "outputs": [
    {
     "data": {
      "text/html": [
       "<div>\n",
       "<style scoped>\n",
       "    .dataframe tbody tr th:only-of-type {\n",
       "        vertical-align: middle;\n",
       "    }\n",
       "\n",
       "    .dataframe tbody tr th {\n",
       "        vertical-align: top;\n",
       "    }\n",
       "\n",
       "    .dataframe thead th {\n",
       "        text-align: right;\n",
       "    }\n",
       "</style>\n",
       "<table border=\"1\" class=\"dataframe\">\n",
       "  <thead>\n",
       "    <tr style=\"text-align: right;\">\n",
       "      <th></th>\n",
       "      <th>Date</th>\n",
       "      <th>JE#</th>\n",
       "      <th>Account Name</th>\n",
       "      <th>Debit</th>\n",
       "      <th>Credit</th>\n",
       "      <th>Entered</th>\n",
       "      <th>Approved</th>\n",
       "    </tr>\n",
       "  </thead>\n",
       "  <tbody>\n",
       "    <tr>\n",
       "      <th>100</th>\n",
       "      <td>2022-01-29</td>\n",
       "      <td>49</td>\n",
       "      <td>Cash</td>\n",
       "      <td>NaN</td>\n",
       "      <td>400.0</td>\n",
       "      <td>VR</td>\n",
       "      <td>AC</td>\n",
       "    </tr>\n",
       "    <tr>\n",
       "      <th>101</th>\n",
       "      <td>2022-01-30</td>\n",
       "      <td>50</td>\n",
       "      <td>Insurance Expense</td>\n",
       "      <td>200.0</td>\n",
       "      <td>NaN</td>\n",
       "      <td>VR</td>\n",
       "      <td>AC</td>\n",
       "    </tr>\n",
       "    <tr>\n",
       "      <th>102</th>\n",
       "      <td>2022-01-30</td>\n",
       "      <td>50</td>\n",
       "      <td>Prepaid Insurance</td>\n",
       "      <td>NaN</td>\n",
       "      <td>200.0</td>\n",
       "      <td>VR</td>\n",
       "      <td>AC</td>\n",
       "    </tr>\n",
       "    <tr>\n",
       "      <th>103</th>\n",
       "      <td>2022-01-31</td>\n",
       "      <td>51</td>\n",
       "      <td>Cash</td>\n",
       "      <td>21000.0</td>\n",
       "      <td>NaN</td>\n",
       "      <td>VR</td>\n",
       "      <td>DH</td>\n",
       "    </tr>\n",
       "    <tr>\n",
       "      <th>104</th>\n",
       "      <td>2022-01-31</td>\n",
       "      <td>51</td>\n",
       "      <td>Service Revenue</td>\n",
       "      <td>NaN</td>\n",
       "      <td>21000.0</td>\n",
       "      <td>VR</td>\n",
       "      <td>DH</td>\n",
       "    </tr>\n",
       "  </tbody>\n",
       "</table>\n",
       "</div>"
      ],
      "text/plain": [
       "          Date  JE#      Account Name     Debit   Credit Entered Approved\n",
       "100 2022-01-29   49               Cash      NaN    400.0      VR       AC\n",
       "101 2022-01-30   50  Insurance Expense    200.0      NaN      VR       AC\n",
       "102 2022-01-30   50  Prepaid Insurance      NaN    200.0      VR       AC\n",
       "103 2022-01-31   51               Cash  21000.0      NaN      VR       DH\n",
       "104 2022-01-31   51    Service Revenue      NaN  21000.0      VR       DH"
      ]
     },
     "execution_count": 4,
     "metadata": {},
     "output_type": "execute_result"
    }
   ],
   "source": [
    "# ANALYSIS: Look at the last JE entries made. \n",
    "Seg.tail(5) "
   ]
  },
  {
   "cell_type": "code",
   "execution_count": 5,
   "metadata": {},
   "outputs": [
    {
     "name": "stdout",
     "output_type": "stream",
     "text": [
      "**************************************************\n",
      "Debit Total: 297927.0\n",
      "Credit Total: 297927.0\n",
      "**************************************************\n"
     ]
    }
   ],
   "source": [
    "# ANALYSIS: Check if Debits = Credits\n",
    "print('*' * 50)\n",
    "print(\"Debit Total:\", Seg['Debit'].sum())\n",
    "print(\"Credit Total:\", Seg['Credit'].sum())  \n",
    "print('*' * 50)\n",
    "\n",
    "# INSIGHT: The month of Jan 2022 is in balance. "
   ]
  },
  {
   "cell_type": "code",
   "execution_count": 6,
   "metadata": {},
   "outputs": [
    {
     "name": "stdout",
     "output_type": "stream",
     "text": [
      "Entered  Approved\n",
      "MW       AC          26\n",
      "         DH          19\n",
      "VR       AC          40\n",
      "         DH          18\n",
      "         VR           2\n",
      "dtype: int64\n"
     ]
    }
   ],
   "source": [
    "# ANALYSIS: Dislay breakdown of who authorized all JE entries. \n",
    "Audit = Seg.groupby(['Entered', 'Approved']).size()\n",
    "print(Audit)\n",
    "\n",
    "# INSIGHT: VR made 1 unauthorized JE entry. Each entry at minimum is 2 entries for Debit and Credit. "
   ]
  },
  {
   "cell_type": "code",
   "execution_count": 7,
   "metadata": {},
   "outputs": [
    {
     "name": "stdout",
     "output_type": "stream",
     "text": [
      "         Date  JE#     Account Name   Debit  Credit Entered Approved\n",
      "69 2022-01-23   34  Training Expense  500.0     NaN      VR       VR\n",
      "70 2022-01-23   34              Cash    NaN   500.0      VR       VR\n"
     ]
    }
   ],
   "source": [
    "# ANALYSIS: Display the unapproved transaction. \n",
    "unapproved = Seg[Seg['Approved'] == 'VR']          # only retrieve rows that have value VR. \n",
    "print(unapproved)\n",
    "\n",
    "#INSIGHT: VR approved their own training expense? That should be done approved by management. Investigate. "
   ]
  },
  {
   "cell_type": "code",
   "execution_count": 8,
   "metadata": {},
   "outputs": [],
   "source": [
    "# OPEN/WRITE EXCEL FILE. Add a new worksheet and append new JE audit data. \n",
    "\n",
    "#writer = pd.ExcelWriter('Lab 2 Data.xlsx', engine='openpyxl', mode='a')\n",
    "\n",
    "with pd.ExcelWriter('Lab 2 Data.xlsx', engine='openpyxl', mode='r+', if_sheet_exists='replace') as writer:\n",
    "    Audit.to_excel(writer, 'Sheet2')"
   ]
  },
  {
   "cell_type": "code",
   "execution_count": null,
   "metadata": {},
   "outputs": [],
   "source": []
  }
 ],
 "metadata": {
  "kernelspec": {
   "display_name": "Python 3",
   "language": "python",
   "name": "python3"
  },
  "language_info": {
   "codemirror_mode": {
    "name": "ipython",
    "version": 3
   },
   "file_extension": ".py",
   "mimetype": "text/x-python",
   "name": "python",
   "nbconvert_exporter": "python",
   "pygments_lexer": "ipython3",
   "version": "3.8.8"
  }
 },
 "nbformat": 4,
 "nbformat_minor": 4
}

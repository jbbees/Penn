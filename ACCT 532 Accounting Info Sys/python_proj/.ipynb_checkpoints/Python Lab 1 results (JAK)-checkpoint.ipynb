{
 "cells": [
  {
   "cell_type": "code",
   "execution_count": 2,
   "metadata": {
    "scrolled": true
   },
   "outputs": [
    {
     "name": "stdout",
     "output_type": "stream",
     "text": [
      "Help on built-in function getcwd in module nt:\n",
      "\n",
      "getcwd()\n",
      "    Return a unicode string representing the current working directory.\n",
      "\n"
     ]
    }
   ],
   "source": [
    "# Import the module of operating system (os)\n",
    "import os\n",
    "\n",
    "# help function to see what the code os.getcwd is for\n",
    "help (os.getcwd)"
   ]
  },
  {
   "cell_type": "code",
   "execution_count": 3,
   "metadata": {
    "scrolled": true
   },
   "outputs": [
    {
     "name": "stdout",
     "output_type": "stream",
     "text": [
      "C:\\Users\\jakel\\Desktop\\python_proj\n",
      "['.ipynb_checkpoints', 'Lab 1 Data.xlsx', 'Python Lab 1 results (JAK).ipynb']\n",
      "C:\\Users\\jakel\\Desktop\\python_proj\n"
     ]
    }
   ],
   "source": [
    "# Find out your current working directory\n",
    "print(os.getcwd())\n",
    "\n",
    "# Display all of the files found in your current working directory\n",
    "print(os.listdir(os.getcwd()))\n",
    "\n",
    "# Change the current working directory\n",
    "os.chdir('C:\\\\Users\\\\jakel\\\\Desktop\\\\python_proj')\n",
    "print (os.getcwd())"
   ]
  },
  {
   "cell_type": "code",
   "execution_count": 4,
   "metadata": {
    "scrolled": true
   },
   "outputs": [
    {
     "name": "stdout",
     "output_type": "stream",
     "text": [
      "       Customer  InvoiceAmount   Due Date  Unnamed: 3  Unnamed: 4  Unnamed: 5  \\\n",
      "0    Home Depot         377.60 2021-12-02         NaN         NaN         NaN   \n",
      "1       Porsche        1259.97 2021-09-28         NaN         NaN         NaN   \n",
      "2      Burberry        1476.09 2021-08-14         NaN         NaN         NaN   \n",
      "3          AT&T         331.80 2021-11-24         NaN         NaN         NaN   \n",
      "4       Porsche        1122.46 2021-09-05         NaN         NaN         NaN   \n",
      "..          ...            ...        ...         ...         ...         ...   \n",
      "195        eBay         652.11 2021-10-19         NaN         NaN         NaN   \n",
      "196    Nintendo         566.79 2021-08-20         NaN         NaN         NaN   \n",
      "197   Pizza Hut        1036.24 2021-10-21         NaN         NaN         NaN   \n",
      "198      Corona        1300.85 2021-11-18         NaN         NaN         NaN   \n",
      "199        Beko         375.42 2021-12-06         NaN         NaN         NaN   \n",
      "\n",
      "     Unnamed: 6  \n",
      "0           NaN  \n",
      "1           NaN  \n",
      "2           NaN  \n",
      "3           NaN  \n",
      "4           NaN  \n",
      "..          ...  \n",
      "195         NaN  \n",
      "196         NaN  \n",
      "197         NaN  \n",
      "198         NaN  \n",
      "199         NaN  \n",
      "\n",
      "[200 rows x 7 columns]\n",
      "<class 'pandas.core.frame.DataFrame'>\n",
      "RangeIndex: 200 entries, 0 to 199\n",
      "Data columns (total 7 columns):\n",
      " #   Column         Non-Null Count  Dtype         \n",
      "---  ------         --------------  -----         \n",
      " 0   Customer       200 non-null    object        \n",
      " 1   InvoiceAmount  200 non-null    float64       \n",
      " 2   Due Date       200 non-null    datetime64[ns]\n",
      " 3   Unnamed: 3     0 non-null      float64       \n",
      " 4   Unnamed: 4     0 non-null      float64       \n",
      " 5   Unnamed: 5     0 non-null      float64       \n",
      " 6   Unnamed: 6     0 non-null      float64       \n",
      "dtypes: datetime64[ns](1), float64(5), object(1)\n",
      "memory usage: 11.1+ KB\n"
     ]
    }
   ],
   "source": [
    "# Standard imports\n",
    "import numpy as np       # python numners lib \n",
    "import scipy as sp\n",
    "import pandas as pd      # pandas is a dataframe lib\n",
    "import datetime \n",
    "import seaborn as sns    # seaborn is a high-level visual library that shows dynamic heatmaps and plots. \n",
    "\n",
    "# Load the A/R Data\n",
    "AR = pd.read_excel (r'Lab 1 Data.xlsx', sheet_name='Sheet1')\n",
    "\n",
    "print (AR)\n",
    "# Display first few rows\n",
    "AR.head(5)\n",
    "AR.info()"
   ]
  },
  {
   "cell_type": "code",
   "execution_count": 5,
   "metadata": {},
   "outputs": [
    {
     "data": {
      "text/plain": [
       "(200, 7)"
      ]
     },
     "execution_count": 5,
     "metadata": {},
     "output_type": "execute_result"
    }
   ],
   "source": [
    "# JAK: How many columns and rows does raw AR file have?\n",
    "AR.shape      # shape returns a tuple(count # rows, count # columns). 200 rows, distinct customers, 7 columns"
   ]
  },
  {
   "cell_type": "code",
   "execution_count": 21,
   "metadata": {},
   "outputs": [
    {
     "data": {
      "text/plain": [
       "(200, 6)"
      ]
     },
     "execution_count": 21,
     "metadata": {},
     "output_type": "execute_result"
    }
   ],
   "source": [
    "# JAK: Data clean-up, remove the useless columns \"Unamed 3, Unamed 4, Unamed 5, Unamed 6\"\n",
    "AR.drop(columns=['Unnamed: 3', 'Unnamed: 4', 'Unnamed: 5', 'Unnamed: 6'],inplace=True)\n",
    "AR.shape     # check if column count dropped. "
   ]
  },
  {
   "cell_type": "code",
   "execution_count": 8,
   "metadata": {},
   "outputs": [
    {
     "data": {
      "text/html": [
       "<div>\n",
       "<style scoped>\n",
       "    .dataframe tbody tr th:only-of-type {\n",
       "        vertical-align: middle;\n",
       "    }\n",
       "\n",
       "    .dataframe tbody tr th {\n",
       "        vertical-align: top;\n",
       "    }\n",
       "\n",
       "    .dataframe thead th {\n",
       "        text-align: right;\n",
       "    }\n",
       "</style>\n",
       "<table border=\"1\" class=\"dataframe\">\n",
       "  <thead>\n",
       "    <tr style=\"text-align: right;\">\n",
       "      <th></th>\n",
       "      <th>InvoiceAmount</th>\n",
       "      <th>Unnamed: 3</th>\n",
       "      <th>Unnamed: 4</th>\n",
       "      <th>Unnamed: 5</th>\n",
       "      <th>Unnamed: 6</th>\n",
       "    </tr>\n",
       "  </thead>\n",
       "  <tbody>\n",
       "    <tr>\n",
       "      <th>count</th>\n",
       "      <td>200.000000</td>\n",
       "      <td>0.0</td>\n",
       "      <td>0.0</td>\n",
       "      <td>0.0</td>\n",
       "      <td>0.0</td>\n",
       "    </tr>\n",
       "    <tr>\n",
       "      <th>mean</th>\n",
       "      <td>845.721700</td>\n",
       "      <td>NaN</td>\n",
       "      <td>NaN</td>\n",
       "      <td>NaN</td>\n",
       "      <td>NaN</td>\n",
       "    </tr>\n",
       "    <tr>\n",
       "      <th>std</th>\n",
       "      <td>375.342177</td>\n",
       "      <td>NaN</td>\n",
       "      <td>NaN</td>\n",
       "      <td>NaN</td>\n",
       "      <td>NaN</td>\n",
       "    </tr>\n",
       "    <tr>\n",
       "      <th>min</th>\n",
       "      <td>230.980000</td>\n",
       "      <td>NaN</td>\n",
       "      <td>NaN</td>\n",
       "      <td>NaN</td>\n",
       "      <td>NaN</td>\n",
       "    </tr>\n",
       "    <tr>\n",
       "      <th>25%</th>\n",
       "      <td>519.687500</td>\n",
       "      <td>NaN</td>\n",
       "      <td>NaN</td>\n",
       "      <td>NaN</td>\n",
       "      <td>NaN</td>\n",
       "    </tr>\n",
       "    <tr>\n",
       "      <th>50%</th>\n",
       "      <td>811.470000</td>\n",
       "      <td>NaN</td>\n",
       "      <td>NaN</td>\n",
       "      <td>NaN</td>\n",
       "      <td>NaN</td>\n",
       "    </tr>\n",
       "    <tr>\n",
       "      <th>75%</th>\n",
       "      <td>1144.460000</td>\n",
       "      <td>NaN</td>\n",
       "      <td>NaN</td>\n",
       "      <td>NaN</td>\n",
       "      <td>NaN</td>\n",
       "    </tr>\n",
       "    <tr>\n",
       "      <th>max</th>\n",
       "      <td>1505.350000</td>\n",
       "      <td>NaN</td>\n",
       "      <td>NaN</td>\n",
       "      <td>NaN</td>\n",
       "      <td>NaN</td>\n",
       "    </tr>\n",
       "  </tbody>\n",
       "</table>\n",
       "</div>"
      ],
      "text/plain": [
       "       InvoiceAmount  Unnamed: 3  Unnamed: 4  Unnamed: 5  Unnamed: 6\n",
       "count     200.000000         0.0         0.0         0.0         0.0\n",
       "mean      845.721700         NaN         NaN         NaN         NaN\n",
       "std       375.342177         NaN         NaN         NaN         NaN\n",
       "min       230.980000         NaN         NaN         NaN         NaN\n",
       "25%       519.687500         NaN         NaN         NaN         NaN\n",
       "50%       811.470000         NaN         NaN         NaN         NaN\n",
       "75%      1144.460000         NaN         NaN         NaN         NaN\n",
       "max      1505.350000         NaN         NaN         NaN         NaN"
      ]
     },
     "execution_count": 8,
     "metadata": {},
     "output_type": "execute_result"
    }
   ],
   "source": [
    "# JAK: What is some prelim AR data telling us?\n",
    "AR.describe()      # describe() takes numeric-valued rows, and calculates stats. NaN = Not A Number.\n",
    "\n",
    "# INSIGHT: \n",
    "# 200 unique customers\n",
    "# Average past due amount $845.72\n",
    "# 75% of past due AR is over $1100\n",
    "# Lowest AR customer past due is $230.98\n",
    "# Highest AR customer past due is $1,505.35"
   ]
  },
  {
   "cell_type": "code",
   "execution_count": 9,
   "metadata": {},
   "outputs": [
    {
     "name": "stdout",
     "output_type": "stream",
     "text": [
      "       Customer  InvoiceAmount   Due Date  Unnamed: 3  Unnamed: 4  Unnamed: 5  \\\n",
      "0    Home Depot         377.60 2021-12-02         NaN         NaN         NaN   \n",
      "1       Porsche        1259.97 2021-09-28         NaN         NaN         NaN   \n",
      "2      Burberry        1476.09 2021-08-14         NaN         NaN         NaN   \n",
      "3          AT&T         331.80 2021-11-24         NaN         NaN         NaN   \n",
      "4       Porsche        1122.46 2021-09-05         NaN         NaN         NaN   \n",
      "..          ...            ...        ...         ...         ...         ...   \n",
      "195        eBay         652.11 2021-10-19         NaN         NaN         NaN   \n",
      "196    Nintendo         566.79 2021-08-20         NaN         NaN         NaN   \n",
      "197   Pizza Hut        1036.24 2021-10-21         NaN         NaN         NaN   \n",
      "198      Corona        1300.85 2021-11-18         NaN         NaN         NaN   \n",
      "199        Beko         375.42 2021-12-06         NaN         NaN         NaN   \n",
      "\n",
      "     Unnamed: 6  Today Date  \n",
      "0           NaN  2021-12-31  \n",
      "1           NaN  2021-12-31  \n",
      "2           NaN  2021-12-31  \n",
      "3           NaN  2021-12-31  \n",
      "4           NaN  2021-12-31  \n",
      "..          ...         ...  \n",
      "195         NaN  2021-12-31  \n",
      "196         NaN  2021-12-31  \n",
      "197         NaN  2021-12-31  \n",
      "198         NaN  2021-12-31  \n",
      "199         NaN  2021-12-31  \n",
      "\n",
      "[200 rows x 8 columns]\n",
      "<class 'pandas.core.frame.DataFrame'>\n",
      "RangeIndex: 200 entries, 0 to 199\n",
      "Data columns (total 8 columns):\n",
      " #   Column         Non-Null Count  Dtype         \n",
      "---  ------         --------------  -----         \n",
      " 0   Customer       200 non-null    object        \n",
      " 1   InvoiceAmount  200 non-null    float64       \n",
      " 2   Due Date       200 non-null    datetime64[ns]\n",
      " 3   Unnamed: 3     0 non-null      float64       \n",
      " 4   Unnamed: 4     0 non-null      float64       \n",
      " 5   Unnamed: 5     0 non-null      float64       \n",
      " 6   Unnamed: 6     0 non-null      float64       \n",
      " 7   Today Date     200 non-null    object        \n",
      "dtypes: datetime64[ns](1), float64(5), object(2)\n",
      "memory usage: 12.6+ KB\n"
     ]
    }
   ],
   "source": [
    "# Provide 'Today Date' as the column name and assign 12/31/2021 to the column\n",
    "AR['Today Date'] = datetime.date(2021 , 12 , 31)\n",
    "print (AR)\n",
    "# Check the format of the columns\n",
    "AR.info()\n",
    "# Convert the 'Today Date' column to datetime format\n",
    "AR['Today Date'] = pd.to_datetime(AR['Today Date'])"
   ]
  },
  {
   "cell_type": "code",
   "execution_count": 10,
   "metadata": {
    "scrolled": true
   },
   "outputs": [
    {
     "name": "stdout",
     "output_type": "stream",
     "text": [
      "       Customer  InvoiceAmount   Due Date  Unnamed: 3  Unnamed: 4  Unnamed: 5  \\\n",
      "0    Home Depot         377.60 2021-12-02         NaN         NaN         NaN   \n",
      "1       Porsche        1259.97 2021-09-28         NaN         NaN         NaN   \n",
      "2      Burberry        1476.09 2021-08-14         NaN         NaN         NaN   \n",
      "3          AT&T         331.80 2021-11-24         NaN         NaN         NaN   \n",
      "4       Porsche        1122.46 2021-09-05         NaN         NaN         NaN   \n",
      "..          ...            ...        ...         ...         ...         ...   \n",
      "195        eBay         652.11 2021-10-19         NaN         NaN         NaN   \n",
      "196    Nintendo         566.79 2021-08-20         NaN         NaN         NaN   \n",
      "197   Pizza Hut        1036.24 2021-10-21         NaN         NaN         NaN   \n",
      "198      Corona        1300.85 2021-11-18         NaN         NaN         NaN   \n",
      "199        Beko         375.42 2021-12-06         NaN         NaN         NaN   \n",
      "\n",
      "     Unnamed: 6 Today Date Days Past Due  \n",
      "0           NaN 2021-12-31       29 days  \n",
      "1           NaN 2021-12-31       94 days  \n",
      "2           NaN 2021-12-31      139 days  \n",
      "3           NaN 2021-12-31       37 days  \n",
      "4           NaN 2021-12-31      117 days  \n",
      "..          ...        ...           ...  \n",
      "195         NaN 2021-12-31       73 days  \n",
      "196         NaN 2021-12-31      133 days  \n",
      "197         NaN 2021-12-31       71 days  \n",
      "198         NaN 2021-12-31       43 days  \n",
      "199         NaN 2021-12-31       25 days  \n",
      "\n",
      "[200 rows x 9 columns]\n"
     ]
    }
   ],
   "source": [
    "# How many days past due is each customer?\n",
    "# Add-in another column called \"Days Past Due\", the value for this column is expression Today's Date - Due Date = Days Past Due.\n",
    "AR['Days Past Due'] =AR['Today Date'] - AR['Due Date']\n",
    "print (AR)"
   ]
  },
  {
   "cell_type": "code",
   "execution_count": 11,
   "metadata": {
    "scrolled": true
   },
   "outputs": [
    {
     "name": "stdout",
     "output_type": "stream",
     "text": [
      "<class 'pandas.core.frame.DataFrame'>\n",
      "RangeIndex: 200 entries, 0 to 199\n",
      "Data columns (total 9 columns):\n",
      " #   Column         Non-Null Count  Dtype          \n",
      "---  ------         --------------  -----          \n",
      " 0   Customer       200 non-null    object         \n",
      " 1   InvoiceAmount  200 non-null    float64        \n",
      " 2   Due Date       200 non-null    datetime64[ns] \n",
      " 3   Unnamed: 3     0 non-null      float64        \n",
      " 4   Unnamed: 4     0 non-null      float64        \n",
      " 5   Unnamed: 5     0 non-null      float64        \n",
      " 6   Unnamed: 6     0 non-null      float64        \n",
      " 7   Today Date     200 non-null    datetime64[ns] \n",
      " 8   Days Past Due  200 non-null    timedelta64[ns]\n",
      "dtypes: datetime64[ns](2), float64(5), object(1), timedelta64[ns](1)\n",
      "memory usage: 14.2+ KB\n"
     ]
    }
   ],
   "source": [
    "# Group all the days past due and run a sum() function\n",
    "AR.groupby('Days Past Due').sum()\n",
    "AR.info()    # this info() function will display each column in the dataframe, the summed values for each column across all rows."
   ]
  },
  {
   "cell_type": "code",
   "execution_count": 12,
   "metadata": {},
   "outputs": [],
   "source": [
    "# Define a groups variable and store the grouped results from pevious cell.\n",
    "groups=AR.groupby('Days Past Due').sum()\n",
    "\n",
    "# export to append to existing excel \n",
    "writer = pd.ExcelWriter('Lab 1 Data.xlsx', engine='openpyxl', mode='a')  # Open Excel file in write mode. \n",
    "groups.to_excel(writer, 'Sheet2')                                        # append a second worksheet called Sheet2 and write the data stored in groups into this \n",
    "writer.save()                                                            # save the written changes to Excel file. \n",
    "writer.close()                                                           # close the Excel file to prevent further changes. "
   ]
  },
  {
   "cell_type": "code",
   "execution_count": 13,
   "metadata": {},
   "outputs": [],
   "source": [
    "# Reformat the values in Days Past Due column using numpy lib, and cast data-type as an INT. \n",
    "AR['Days Past Due']=(AR['Days Past Due'] / np.timedelta64(1, 'D')).astype(int)"
   ]
  },
  {
   "cell_type": "code",
   "execution_count": 14,
   "metadata": {},
   "outputs": [
    {
     "name": "stdout",
     "output_type": "stream",
     "text": [
      "['1-30', '91-120', '121-150', '31-60', '91-120', '61-90', '91-120', '91-120', '61-90', '91-120', '1-30', '1-30', '31-60', '31-60', '121-150', '61-90', '61-90', '61-90', '151-180', '31-60', '91-120', '31-60', '91-120', '61-90', '31-60', '91-120', '151-180', '121-150', '1-30', '121-150', '61-90', '31-60', '61-90', '31-60', '121-150', '121-150', '61-90', '1-30', '91-120', '121-150', '121-150', '121-150', '61-90', '91-120', '121-150', '151-180', '121-150', '31-60', '91-120', '91-120', '61-90', '121-150', '151-180', '121-150', '61-90', '1-30', '91-120', '31-60', '31-60', '91-120', '61-90', '1-30', '91-120', '1-30', '91-120', '91-120', '31-60', '121-150', '91-120', '1-30', '121-150', '91-120', '61-90', '121-150', '121-150', '1-30', '151-180', '1-30', '31-60', '121-150', '91-120', '121-150', '61-90', '31-60', '31-60', '31-60', '31-60', '121-150', '91-120', '121-150', '31-60', '151-180', '91-120', '91-120', '121-150', '1-30', '61-90', '1-30', '61-90', '61-90', '91-120', '121-150', '1-30', '61-90', '61-90', '61-90', '1-30', '61-90', '31-60', '61-90', '61-90', '91-120', '91-120', '91-120', '1-30', '31-60', '1-30', '61-90', '121-150', '31-60', '61-90', '61-90', '31-60', '1-30', '61-90', '121-150', '61-90', '61-90', '31-60', '151-180', '31-60', '151-180', '61-90', '61-90', '31-60', '151-180', '61-90', '121-150', '1-30', '91-120', '121-150', '61-90', '121-150', '61-90', '151-180', '121-150', '31-60', '31-60', '61-90', '121-150', '151-180', '31-60', '1-30', '31-60', '31-60', '61-90', '31-60', '121-150', '31-60', '121-150', '31-60', '1-30', '1-30', '61-90', '31-60', '121-150', '61-90', '61-90', '121-150', '91-120', '151-180', '91-120', '91-120', '61-90', '121-150', '121-150', '121-150', '61-90', '61-90', '91-120', '121-150', '1-30', '91-120', '91-120', '121-150', '61-90', '61-90', '121-150', '1-30', '31-60', '121-150', '31-60', '91-120', '1-30', '1-30', '61-90', '121-150', '61-90', '31-60', '1-30']\n"
     ]
    }
   ],
   "source": [
    "# Define an empty list called DaysLate.\n",
    "# Each list has elements [1, 2, 3, 4, 5]\n",
    "# Each element in DaysLate is an AR bucket, range of days past due. There will be 6 distinct list elements.\n",
    "\n",
    "# Loop through the values in Days Past Due, test value condition, add a list element based on the condition for each row. \n",
    "\n",
    "DaysLate = []\n",
    "for row in AR['Days Past Due']:\n",
    "    if row<31 : DaysLate.append('1-30')         # If row INT value in Days Past Due is <31, append DaysLate list with bucket value '1-30'\n",
    "    elif row<61 : DaysLate.append('31-60')\n",
    "    elif row<91 : DaysLate.append('61-90')\n",
    "    elif row<121 : DaysLate.append('91-120')\n",
    "    elif row<151 : DaysLate.append('121-150')\n",
    "    else: DaysLate.append('151-180')\n",
    "        \n",
    "print (DaysLate)  # print the list. "
   ]
  },
  {
   "cell_type": "code",
   "execution_count": 15,
   "metadata": {},
   "outputs": [
    {
     "name": "stdout",
     "output_type": "stream",
     "text": [
      "       Customer  InvoiceAmount   Due Date  Unnamed: 3  Unnamed: 4  Unnamed: 5  \\\n",
      "0    Home Depot         377.60 2021-12-02         NaN         NaN         NaN   \n",
      "1       Porsche        1259.97 2021-09-28         NaN         NaN         NaN   \n",
      "2      Burberry        1476.09 2021-08-14         NaN         NaN         NaN   \n",
      "3          AT&T         331.80 2021-11-24         NaN         NaN         NaN   \n",
      "4       Porsche        1122.46 2021-09-05         NaN         NaN         NaN   \n",
      "..          ...            ...        ...         ...         ...         ...   \n",
      "195        eBay         652.11 2021-10-19         NaN         NaN         NaN   \n",
      "196    Nintendo         566.79 2021-08-20         NaN         NaN         NaN   \n",
      "197   Pizza Hut        1036.24 2021-10-21         NaN         NaN         NaN   \n",
      "198      Corona        1300.85 2021-11-18         NaN         NaN         NaN   \n",
      "199        Beko         375.42 2021-12-06         NaN         NaN         NaN   \n",
      "\n",
      "     Unnamed: 6 Today Date  Days Past Due DaysLate  \n",
      "0           NaN 2021-12-31             29     1-30  \n",
      "1           NaN 2021-12-31             94   91-120  \n",
      "2           NaN 2021-12-31            139  121-150  \n",
      "3           NaN 2021-12-31             37    31-60  \n",
      "4           NaN 2021-12-31            117   91-120  \n",
      "..          ...        ...            ...      ...  \n",
      "195         NaN 2021-12-31             73    61-90  \n",
      "196         NaN 2021-12-31            133  121-150  \n",
      "197         NaN 2021-12-31             71    61-90  \n",
      "198         NaN 2021-12-31             43    31-60  \n",
      "199         NaN 2021-12-31             25     1-30  \n",
      "\n",
      "[200 rows x 10 columns]\n"
     ]
    }
   ],
   "source": [
    "# Add-in new column called DaysLate and assign values in Dayslate[] list. \n",
    "AR['DaysLate']=DaysLate\n",
    "print (AR)"
   ]
  },
  {
   "cell_type": "code",
   "execution_count": 16,
   "metadata": {},
   "outputs": [],
   "source": [
    "# Group the summed AR bucket values of DaysLate and store in variable groups 2.\n",
    "groups2=AR.groupby('DaysLate').sum()\n",
    "\n",
    "# export to append to existing excel \n",
    "writer = pd.ExcelWriter('Lab 1 Data.xlsx', engine='openpyxl', mode='a')   # Re-open Excel file in write mode.\n",
    "groups2.to_excel(writer, 'Sheet3')                                        # write the AR bucket data into a new worksheet Sheet 3. \n",
    "writer.save()                                                             # save the changes.\n",
    "writer.close()                                                            # close the file."
   ]
  },
  {
   "cell_type": "code",
   "execution_count": 17,
   "metadata": {},
   "outputs": [
    {
     "name": "stdout",
     "output_type": "stream",
     "text": [
      "                    Customer  InvoiceAmount   Due Date  Unnamed: 3  \\\n",
      "5                    Porsche         838.18 2021-10-03         NaN   \n",
      "8      United Parcel Service         685.10 2021-10-31         NaN   \n",
      "15                 Citigroup         994.35 2021-10-30         NaN   \n",
      "16                     Xerox         230.98 2021-10-16         NaN   \n",
      "17                 Starbucks         419.86 2021-10-08         NaN   \n",
      "23                       KFC        1093.72 2021-10-08         NaN   \n",
      "30                      Avon         717.65 2021-10-12         NaN   \n",
      "32                      VISA         723.94 2021-10-10         NaN   \n",
      "36             Credit Suisse         731.90 2021-10-04         NaN   \n",
      "42                 Microsoft         325.08 2021-10-29         NaN   \n",
      "50                Amazon.com         848.22 2021-10-10         NaN   \n",
      "54        Oracle Corporation         406.57 2021-10-03         NaN   \n",
      "60            Jack Daniel's         1117.75 2021-10-05         NaN   \n",
      "72                  Smirnoff        1011.41 2021-10-30         NaN   \n",
      "82                MasterCard         810.28 2021-10-20         NaN   \n",
      "96                  Nintendo        1139.62 2021-10-12         NaN   \n",
      "98                    Corona        1054.12 2021-10-24         NaN   \n",
      "99                      Beko         262.04 2021-10-10         NaN   \n",
      "103  Toyota Motor Coporation        1264.21 2021-10-06         NaN   \n",
      "104  The Walt Disney Company        1020.57 2021-10-09         NaN   \n",
      "105                      SAP         824.93 2021-10-16         NaN   \n",
      "107          Kellogg Company         868.49 2021-10-20         NaN   \n",
      "109                      IBM         710.44 2021-10-16         NaN   \n",
      "110            Mercedes-benz         707.28 2021-10-03         NaN   \n",
      "117                  PepsiCo        1234.88 2021-10-05         NaN   \n",
      "120                    Canon         411.27 2021-10-23         NaN   \n",
      "121        Intel Corporation         546.41 2021-10-20         NaN   \n",
      "124        Shell Oil Company        1101.52 2021-10-23         NaN   \n",
      "126                  Porsche         684.50 2021-10-22         NaN   \n",
      "127                 Burberry         949.00 2021-10-25         NaN   \n",
      "132                      BMW         592.69 2021-10-18         NaN   \n",
      "133    United Parcel Service        1135.33 2021-10-26         NaN   \n",
      "136                Citigroup         740.98 2021-10-29         NaN   \n",
      "141                    Xerox        1096.40 2021-10-23         NaN   \n",
      "143                Coca-Cola         259.61 2021-10-08         NaN   \n",
      "148                      KFC         412.91 2021-10-12         NaN   \n",
      "155                     Avon        1282.10 2021-10-13         NaN   \n",
      "163        Intel Corporation         349.12 2021-10-24         NaN   \n",
      "166          Kellogg Company        1444.58 2021-10-06         NaN   \n",
      "167                Microsoft         631.99 2021-10-03         NaN   \n",
      "173           Jack Daniel's         1365.88 2021-10-20         NaN   \n",
      "177                  L'Oreal         528.29 2021-10-19         NaN   \n",
      "178             Nissan Motor         700.70 2021-10-25         NaN   \n",
      "185               Siemens AG         847.28 2021-10-09         NaN   \n",
      "186            Mercedes-benz         912.97 2021-10-19         NaN   \n",
      "195                     eBay         652.11 2021-10-19         NaN   \n",
      "197                Pizza Hut        1036.24 2021-10-21         NaN   \n",
      "\n",
      "     Unnamed: 4  Unnamed: 5  Unnamed: 6 Today Date  Days Past Due DaysLate  \n",
      "5           NaN         NaN         NaN 2021-12-31             89    61-90  \n",
      "8           NaN         NaN         NaN 2021-12-31             61    61-90  \n",
      "15          NaN         NaN         NaN 2021-12-31             62    61-90  \n",
      "16          NaN         NaN         NaN 2021-12-31             76    61-90  \n",
      "17          NaN         NaN         NaN 2021-12-31             84    61-90  \n",
      "23          NaN         NaN         NaN 2021-12-31             84    61-90  \n",
      "30          NaN         NaN         NaN 2021-12-31             80    61-90  \n",
      "32          NaN         NaN         NaN 2021-12-31             82    61-90  \n",
      "36          NaN         NaN         NaN 2021-12-31             88    61-90  \n",
      "42          NaN         NaN         NaN 2021-12-31             63    61-90  \n",
      "50          NaN         NaN         NaN 2021-12-31             82    61-90  \n",
      "54          NaN         NaN         NaN 2021-12-31             89    61-90  \n",
      "60          NaN         NaN         NaN 2021-12-31             87    61-90  \n",
      "72          NaN         NaN         NaN 2021-12-31             62    61-90  \n",
      "82          NaN         NaN         NaN 2021-12-31             72    61-90  \n",
      "96          NaN         NaN         NaN 2021-12-31             80    61-90  \n",
      "98          NaN         NaN         NaN 2021-12-31             68    61-90  \n",
      "99          NaN         NaN         NaN 2021-12-31             82    61-90  \n",
      "103         NaN         NaN         NaN 2021-12-31             86    61-90  \n",
      "104         NaN         NaN         NaN 2021-12-31             83    61-90  \n",
      "105         NaN         NaN         NaN 2021-12-31             76    61-90  \n",
      "107         NaN         NaN         NaN 2021-12-31             72    61-90  \n",
      "109         NaN         NaN         NaN 2021-12-31             76    61-90  \n",
      "110         NaN         NaN         NaN 2021-12-31             89    61-90  \n",
      "117         NaN         NaN         NaN 2021-12-31             87    61-90  \n",
      "120         NaN         NaN         NaN 2021-12-31             69    61-90  \n",
      "121         NaN         NaN         NaN 2021-12-31             72    61-90  \n",
      "124         NaN         NaN         NaN 2021-12-31             69    61-90  \n",
      "126         NaN         NaN         NaN 2021-12-31             70    61-90  \n",
      "127         NaN         NaN         NaN 2021-12-31             67    61-90  \n",
      "132         NaN         NaN         NaN 2021-12-31             74    61-90  \n",
      "133         NaN         NaN         NaN 2021-12-31             66    61-90  \n",
      "136         NaN         NaN         NaN 2021-12-31             63    61-90  \n",
      "141         NaN         NaN         NaN 2021-12-31             69    61-90  \n",
      "143         NaN         NaN         NaN 2021-12-31             84    61-90  \n",
      "148         NaN         NaN         NaN 2021-12-31             80    61-90  \n",
      "155         NaN         NaN         NaN 2021-12-31             79    61-90  \n",
      "163         NaN         NaN         NaN 2021-12-31             68    61-90  \n",
      "166         NaN         NaN         NaN 2021-12-31             86    61-90  \n",
      "167         NaN         NaN         NaN 2021-12-31             89    61-90  \n",
      "173         NaN         NaN         NaN 2021-12-31             72    61-90  \n",
      "177         NaN         NaN         NaN 2021-12-31             73    61-90  \n",
      "178         NaN         NaN         NaN 2021-12-31             67    61-90  \n",
      "185         NaN         NaN         NaN 2021-12-31             83    61-90  \n",
      "186         NaN         NaN         NaN 2021-12-31             73    61-90  \n",
      "195         NaN         NaN         NaN 2021-12-31             73    61-90  \n",
      "197         NaN         NaN         NaN 2021-12-31             71    61-90  \n"
     ]
    }
   ],
   "source": [
    "# We want to know the amount of customers who are late on their payment past 60 days but less than 91 days. \n",
    "\n",
    "#Create subgroup variable and store only the columns and row values that have '60-90' in DaysLate column, \n",
    "subgroup=AR[AR.DaysLate==\"61-90\"]  # filtering rows only for value '61-90' in DaysLate\n",
    "print(subgroup) # print the target customers.\n",
    "\n",
    "# export to append to existing excel \n",
    "writer = pd.ExcelWriter('Lab 1 Data.xlsx', engine='openpyxl', mode='a')  # re-open Excel file in append/write mode.\n",
    "subgroup.to_excel(writer, 'Sheet4')                                      # create a fourth worksheet Sheet4 and write the data in.\n",
    "writer.save()                                                            # Save changes.\n",
    "writer.close()                                                           # Close file. "
   ]
  },
  {
   "cell_type": "code",
   "execution_count": null,
   "metadata": {},
   "outputs": [],
   "source": []
  }
 ],
 "metadata": {
  "kernelspec": {
   "display_name": "Python 3",
   "language": "python",
   "name": "python3"
  },
  "language_info": {
   "codemirror_mode": {
    "name": "ipython",
    "version": 3
   },
   "file_extension": ".py",
   "mimetype": "text/x-python",
   "name": "python",
   "nbconvert_exporter": "python",
   "pygments_lexer": "ipython3",
   "version": "3.8.8"
  }
 },
 "nbformat": 4,
 "nbformat_minor": 4
}

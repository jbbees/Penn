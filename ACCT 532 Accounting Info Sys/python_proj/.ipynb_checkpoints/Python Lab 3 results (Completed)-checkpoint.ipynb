{
 "cells": [
  {
   "cell_type": "code",
   "execution_count": 1,
   "metadata": {
    "scrolled": true
   },
   "outputs": [
    {
     "name": "stdout",
     "output_type": "stream",
     "text": [
      "['.ipynb_checkpoints', 'Lab 1 Data.xlsx', 'Lab 2 Data.xlsx', 'Lab 3 Data.xlsx', 'Python Lab 1 results (Completed).ipynb', 'Python Lab 2 results (Completed).ipynb', 'Python Lab 3 results.ipynb']\n",
      "C:\\Users\\jakel\\Desktop\\python_proj\n"
     ]
    }
   ],
   "source": [
    "import os\n",
    "\n",
    "# Display all of the files found in your current working directory\n",
    "print(os.listdir(os.getcwd()))\n",
    "\n",
    "# Change the current working directory\n",
    "os.chdir('C:\\\\Users\\\\jakel\\\\Desktop\\\\python_proj')\n",
    "print (os.getcwd())"
   ]
  },
  {
   "cell_type": "code",
   "execution_count": 2,
   "metadata": {
    "scrolled": true
   },
   "outputs": [
    {
     "data": {
      "text/html": [
       "<div>\n",
       "<style scoped>\n",
       "    .dataframe tbody tr th:only-of-type {\n",
       "        vertical-align: middle;\n",
       "    }\n",
       "\n",
       "    .dataframe tbody tr th {\n",
       "        vertical-align: top;\n",
       "    }\n",
       "\n",
       "    .dataframe thead th {\n",
       "        text-align: right;\n",
       "    }\n",
       "</style>\n",
       "<table border=\"1\" class=\"dataframe\">\n",
       "  <thead>\n",
       "    <tr style=\"text-align: right;\">\n",
       "      <th></th>\n",
       "      <th>gvkey</th>\n",
       "      <th>conm</th>\n",
       "      <th>fyear</th>\n",
       "      <th>act</th>\n",
       "      <th>at</th>\n",
       "      <th>ebit</th>\n",
       "      <th>lct</th>\n",
       "      <th>lt</th>\n",
       "      <th>ni</th>\n",
       "      <th>re</th>\n",
       "      <th>sale</th>\n",
       "      <th>ME</th>\n",
       "      <th>Unnamed: 12</th>\n",
       "      <th>Unnamed: 13</th>\n",
       "      <th>Unnamed: 14</th>\n",
       "    </tr>\n",
       "  </thead>\n",
       "  <tbody>\n",
       "    <tr>\n",
       "      <th>0</th>\n",
       "      <td>24218</td>\n",
       "      <td>CALLOWAY'S NURSERY INC</td>\n",
       "      <td>2012</td>\n",
       "      <td>8.038</td>\n",
       "      <td>23.143</td>\n",
       "      <td>2.371</td>\n",
       "      <td>5.697</td>\n",
       "      <td>15.954</td>\n",
       "      <td>0.609</td>\n",
       "      <td>-2.489</td>\n",
       "      <td>45.551</td>\n",
       "      <td>6.260</td>\n",
       "      <td>NaN</td>\n",
       "      <td>NaN</td>\n",
       "      <td>NaN</td>\n",
       "    </tr>\n",
       "    <tr>\n",
       "      <th>1</th>\n",
       "      <td>14225</td>\n",
       "      <td>FASTENAL CO</td>\n",
       "      <td>2009</td>\n",
       "      <td>982.364</td>\n",
       "      <td>1327.358</td>\n",
       "      <td>296.643</td>\n",
       "      <td>119.509</td>\n",
       "      <td>136.515</td>\n",
       "      <td>184.357</td>\n",
       "      <td>1189.036</td>\n",
       "      <td>1930.330</td>\n",
       "      <td>6139.027</td>\n",
       "      <td>NaN</td>\n",
       "      <td>NaN</td>\n",
       "      <td>NaN</td>\n",
       "    </tr>\n",
       "    <tr>\n",
       "      <th>2</th>\n",
       "      <td>14225</td>\n",
       "      <td>FASTENAL CO</td>\n",
       "      <td>2010</td>\n",
       "      <td>1085.698</td>\n",
       "      <td>1468.283</td>\n",
       "      <td>429.724</td>\n",
       "      <td>162.185</td>\n",
       "      <td>185.771</td>\n",
       "      <td>265.356</td>\n",
       "      <td>1276.675</td>\n",
       "      <td>2269.471</td>\n",
       "      <td>8832.591</td>\n",
       "      <td>NaN</td>\n",
       "      <td>NaN</td>\n",
       "      <td>NaN</td>\n",
       "    </tr>\n",
       "    <tr>\n",
       "      <th>3</th>\n",
       "      <td>14225</td>\n",
       "      <td>FASTENAL CO</td>\n",
       "      <td>2011</td>\n",
       "      <td>1236.138</td>\n",
       "      <td>1684.948</td>\n",
       "      <td>574.803</td>\n",
       "      <td>187.818</td>\n",
       "      <td>225.972</td>\n",
       "      <td>357.929</td>\n",
       "      <td>1439.167</td>\n",
       "      <td>2766.859</td>\n",
       "      <td>12876.245</td>\n",
       "      <td>NaN</td>\n",
       "      <td>NaN</td>\n",
       "      <td>NaN</td>\n",
       "    </tr>\n",
       "    <tr>\n",
       "      <th>4</th>\n",
       "      <td>14225</td>\n",
       "      <td>FASTENAL CO</td>\n",
       "      <td>2012</td>\n",
       "      <td>1286.656</td>\n",
       "      <td>1815.832</td>\n",
       "      <td>673.288</td>\n",
       "      <td>204.174</td>\n",
       "      <td>255.472</td>\n",
       "      <td>420.536</td>\n",
       "      <td>1495.958</td>\n",
       "      <td>3133.577</td>\n",
       "      <td>13834.711</td>\n",
       "      <td>NaN</td>\n",
       "      <td>NaN</td>\n",
       "      <td>NaN</td>\n",
       "    </tr>\n",
       "  </tbody>\n",
       "</table>\n",
       "</div>"
      ],
      "text/plain": [
       "   gvkey                    conm  fyear       act        at     ebit      lct  \\\n",
       "0  24218  CALLOWAY'S NURSERY INC   2012     8.038    23.143    2.371    5.697   \n",
       "1  14225             FASTENAL CO   2009   982.364  1327.358  296.643  119.509   \n",
       "2  14225             FASTENAL CO   2010  1085.698  1468.283  429.724  162.185   \n",
       "3  14225             FASTENAL CO   2011  1236.138  1684.948  574.803  187.818   \n",
       "4  14225             FASTENAL CO   2012  1286.656  1815.832  673.288  204.174   \n",
       "\n",
       "        lt       ni        re      sale         ME  Unnamed: 12  Unnamed: 13  \\\n",
       "0   15.954    0.609    -2.489    45.551      6.260          NaN          NaN   \n",
       "1  136.515  184.357  1189.036  1930.330   6139.027          NaN          NaN   \n",
       "2  185.771  265.356  1276.675  2269.471   8832.591          NaN          NaN   \n",
       "3  225.972  357.929  1439.167  2766.859  12876.245          NaN          NaN   \n",
       "4  255.472  420.536  1495.958  3133.577  13834.711          NaN          NaN   \n",
       "\n",
       "   Unnamed: 14  \n",
       "0          NaN  \n",
       "1          NaN  \n",
       "2          NaN  \n",
       "3          NaN  \n",
       "4          NaN  "
      ]
     },
     "execution_count": 2,
     "metadata": {},
     "output_type": "execute_result"
    }
   ],
   "source": [
    "# Standard imports\n",
    "import pandas as pd     # import the pandas module for working with dataframe objects. \n",
    "\n",
    "Altman = pd.read_excel (r'Lab 3 Data.xlsx', sheet_name='Sheet1')   # read in Sheet 1 data from file. \n",
    "\n",
    "Altman.head(5)    # displays first 5 rows. "
   ]
  },
  {
   "cell_type": "code",
   "execution_count": 4,
   "metadata": {},
   "outputs": [
    {
     "data": {
      "text/plain": [
       "Index(['gvkey', 'conm', 'fyear', 'act', 'at', 'ebit', 'lct', 'lt', 'ni', 're',\n",
       "       'sale', 'ME'],\n",
       "      dtype='object')"
      ]
     },
     "execution_count": 4,
     "metadata": {},
     "output_type": "execute_result"
    }
   ],
   "source": [
    "# Data Clean-up. Drop useless defauly columns.\n",
    "Altman.drop(columns=['Unnamed: 12', 'Unnamed: 13', 'Unnamed: 14'], inplace=True) \n",
    "Altman.columns"
   ]
  },
  {
   "cell_type": "code",
   "execution_count": 5,
   "metadata": {},
   "outputs": [],
   "source": [
    "# COLUMN ADD-IN: Add 5 colunns for each Z-score component.\n",
    "\n",
    "Altman['X1']=(Altman['act'] - Altman['lct'])/Altman['at']      # X1: working capital or (current assets-current liabilities) / total assets\n",
    "Altman['X2']=Altman['re']/Altman['at']                         # X2: retained earnings / total assets\n",
    "Altman['X3']=Altman['ebit']/Altman['at']                       # X3: ebit / total assets\n",
    "Altman['X4']=Altman['ME']/Altman['lt']                         # X4: market value of equity / total liabilities\n",
    "Altman['X5']=Altman['sale']/Altman['at']                       # X5: sales / total assets"
   ]
  },
  {
   "cell_type": "code",
   "execution_count": 6,
   "metadata": {},
   "outputs": [
    {
     "name": "stdout",
     "output_type": "stream",
     "text": [
      "       gvkey                       conm  fyear       act        at     ebit  \\\n",
      "0      24218     CALLOWAY'S NURSERY INC   2012     8.038    23.143    2.371   \n",
      "1      14225                FASTENAL CO   2009   982.364  1327.358  296.643   \n",
      "2      14225                FASTENAL CO   2010  1085.698  1468.283  429.724   \n",
      "3      14225                FASTENAL CO   2011  1236.138  1684.948  574.803   \n",
      "4      14225                FASTENAL CO   2012  1286.656  1815.832  673.288   \n",
      "...      ...                        ...    ...       ...       ...      ...   \n",
      "2324  175532  WESTERN CAPITAL RESOURCES   2013    10.368    24.439    2.937   \n",
      "2325  175532  WESTERN CAPITAL RESOURCES   2014    15.160    36.762    4.271   \n",
      "2326  175532  WESTERN CAPITAL RESOURCES   2015    25.466    56.185    6.591   \n",
      "2327  175532  WESTERN CAPITAL RESOURCES   2016    33.138    60.211   10.407   \n",
      "2328  175532  WESTERN CAPITAL RESOURCES   2017    75.039   104.244    2.464   \n",
      "\n",
      "          lct       lt       ni        re      sale         ME        X1  \\\n",
      "0       5.697   15.954    0.609    -2.489    45.551      6.260  0.101154   \n",
      "1     119.509  136.515  184.357  1189.036  1930.330   6139.027  0.650054   \n",
      "2     162.185  185.771  265.356  1276.675  2269.471   8832.591  0.628975   \n",
      "3     187.818  225.972  357.929  1439.167  2766.859  12876.245  0.622168   \n",
      "4     204.174  255.472  420.536  1495.958  3133.577  13834.711  0.596136   \n",
      "...       ...      ...      ...       ...       ...        ...       ...   \n",
      "2324    5.957    7.113    1.620    -5.028    32.889      7.226  0.180490   \n",
      "2325   10.962   16.672    2.406    -2.622    40.760     19.793  0.114194   \n",
      "2326   18.665   26.326    3.520     0.898    76.454     33.243  0.121047   \n",
      "2327   18.828   29.522    1.458     1.644   109.187     47.490  0.237664   \n",
      "2328   33.156   35.550   37.679    37.903   121.521     44.607  0.401779   \n",
      "\n",
      "            X2        X3         X4        X5          Z  \n",
      "0    -0.107549  0.102450   0.392378  1.968241   2.512569  \n",
      "1     0.895791  0.223484  44.969615  1.454265  31.207704  \n",
      "2     0.869502  0.292671  47.545586  1.545663  33.010902  \n",
      "3     0.854131  0.341140  56.981595  1.642103  38.899207  \n",
      "4     0.823842  0.370788  54.153532  1.725698  37.310157  \n",
      "...        ...       ...        ...       ...        ...  \n",
      "2324 -0.205737  0.120177   1.015886  1.345759   2.280431  \n",
      "2325 -0.071324  0.116180   1.187200  1.108754   2.241647  \n",
      "2326  0.015983  0.117309   1.262744  1.360755   2.673152  \n",
      "2327  0.027304  0.172842   1.608631  1.813406   3.672386  \n",
      "2328  0.363599  0.023637   1.254768  1.165736   2.987771  \n",
      "\n",
      "[2329 rows x 18 columns]\n"
     ]
    }
   ],
   "source": [
    "# Calculate Z-score by taking each component and multiplying by factor. Print results. \n",
    "Altman['Z']=1.2*Altman['X1'] + 1.4*Altman['X2'] + 3.3*Altman['X3'] + 0.6*Altman['X4'] + 1.0*Altman['X5']\n",
    "print(Altman)"
   ]
  },
  {
   "cell_type": "code",
   "execution_count": 7,
   "metadata": {},
   "outputs": [
    {
     "name": "stdout",
     "output_type": "stream",
     "text": [
      "['risk of bankruptcy or gray zone', 'nonbankrupt or safe zone', 'nonbankrupt or safe zone', 'nonbankrupt or safe zone', 'nonbankrupt or safe zone', 'nonbankrupt or safe zone', 'nonbankrupt or safe zone', 'nonbankrupt or safe zone', 'nonbankrupt or safe zone', 'nonbankrupt or safe zone', 'nonbankrupt or safe zone', 'nonbankrupt or safe zone', 'nonbankrupt or safe zone', 'nonbankrupt or safe zone', 'risk of bankruptcy or gray zone', 'nonbankrupt or safe zone', 'nonbankrupt or safe zone', 'nonbankrupt or safe zone', 'nonbankrupt or safe zone', 'nonbankrupt or safe zone', 'nonbankrupt or safe zone', 'nonbankrupt or safe zone', 'nonbankrupt or safe zone', 'nonbankrupt or safe zone', 'nonbankrupt or safe zone', 'nonbankrupt or safe zone', 'nonbankrupt or safe zone', 'nonbankrupt or safe zone', 'risk of bankruptcy or gray zone', 'risk of bankruptcy or gray zone', 'risk of bankruptcy or gray zone', 'risk of bankruptcy or gray zone', 'risk of bankruptcy or gray zone', 'nonbankrupt or safe zone', 'nonbankrupt or safe zone', 'nonbankrupt or safe zone', 'nonbankrupt or safe zone', 'nonbankrupt or safe zone', 'nonbankrupt or safe zone', 'nonbankrupt or safe zone', 'nonbankrupt or safe zone', 'nonbankrupt or safe zone', 'nonbankrupt or safe zone', 'nonbankrupt or safe zone', 'nonbankrupt or safe zone', 'nonbankrupt or safe zone', 'nonbankrupt or safe zone', 'nonbankrupt or safe zone', 'nonbankrupt or safe zone', 'nonbankrupt or safe zone', 'nonbankrupt or safe zone', 'nonbankrupt or safe zone', 'nonbankrupt or safe zone', 'nonbankrupt or safe zone', 'nonbankrupt or safe zone', 'nonbankrupt or safe zone', 'nonbankrupt or safe zone', 'risk of bankruptcy or gray zone', 'risk of bankruptcy or gray zone', 'nonbankrupt or safe zone', 'nonbankrupt or safe zone', 'nonbankrupt or safe zone', 'nonbankrupt or safe zone', 'nonbankrupt or safe zone', 'risk of bankruptcy or gray zone', 'risk of bankruptcy or gray zone', 'risk of bankruptcy or gray zone', 'risk of bankruptcy or gray zone', 'risk of bankruptcy or gray zone', 'risk of bankruptcy or gray zone', 'risk of bankruptcy or gray zone', 'risk of bankruptcy or gray zone', 'risk of bankruptcy or gray zone', 'risk of bankruptcy or gray zone', 'nonbankrupt or safe zone', 'nonbankrupt or safe zone', 'nonbankrupt or safe zone', 'nonbankrupt or safe zone', 'nonbankrupt or safe zone', 'nonbankrupt or safe zone', 'nonbankrupt or safe zone', 'nonbankrupt or safe zone', 'nonbankrupt or safe zone', 'nonbankrupt or safe zone', 'nonbankrupt or safe zone', 'nonbankrupt or safe zone', 'nonbankrupt or safe zone', 'nonbankrupt or safe zone', 'nonbankrupt or safe zone', 'nonbankrupt or safe zone', 'nonbankrupt or safe zone', 'nonbankrupt or safe zone', 'bankrupt or distress zone', 'risk of bankruptcy or gray zone', 'risk of bankruptcy or gray zone', 'risk of bankruptcy or gray zone', 'risk of bankruptcy or gray zone', 'risk of bankruptcy or gray zone', 'nonbankrupt or safe zone', 'risk of bankruptcy or gray zone', 'risk of bankruptcy or gray zone', 'risk of bankruptcy or gray zone', 'risk of bankruptcy or gray zone', 'risk of bankruptcy or gray zone', 'risk of bankruptcy or gray zone', 'risk of bankruptcy or gray zone', 'bankrupt or distress zone', 'bankrupt or distress zone', 'bankrupt or distress zone', 'bankrupt or distress zone', 'bankrupt or distress zone', 'bankrupt or distress zone', 'bankrupt or distress zone', 'risk of bankruptcy or gray zone', 'risk of bankruptcy or gray zone', 'risk of bankruptcy or gray zone', 'nonbankrupt or safe zone', 'risk of bankruptcy or gray zone', 'nonbankrupt or safe zone', 'risk of bankruptcy or gray zone', 'risk of bankruptcy or gray zone', 'risk of bankruptcy or gray zone', 'risk of bankruptcy or gray zone', 'risk of bankruptcy or gray zone', 'nonbankrupt or safe zone', 'nonbankrupt or safe zone', 'nonbankrupt or safe zone', 'nonbankrupt or safe zone', 'nonbankrupt or safe zone', 'nonbankrupt or safe zone', 'nonbankrupt or safe zone', 'nonbankrupt or safe zone', 'risk of bankruptcy or gray zone', 'nonbankrupt or safe zone', 'nonbankrupt or safe zone', 'nonbankrupt or safe zone', 'nonbankrupt or safe zone', 'nonbankrupt or safe zone', 'nonbankrupt or safe zone', 'nonbankrupt or safe zone', 'nonbankrupt or safe zone', 'nonbankrupt or safe zone', 'nonbankrupt or safe zone', 'risk of bankruptcy or gray zone', 'nonbankrupt or safe zone', 'nonbankrupt or safe zone', 'nonbankrupt or safe zone', 'nonbankrupt or safe zone', 'nonbankrupt or safe zone', 'nonbankrupt or safe zone', 'nonbankrupt or safe zone', 'nonbankrupt or safe zone', 'nonbankrupt or safe zone', 'nonbankrupt or safe zone', 'nonbankrupt or safe zone', 'nonbankrupt or safe zone', 'nonbankrupt or safe zone', 'nonbankrupt or safe zone', 'nonbankrupt or safe zone', 'risk of bankruptcy or gray zone', 'nonbankrupt or safe zone', 'nonbankrupt or safe zone', 'nonbankrupt or safe zone', 'nonbankrupt or safe zone', 'nonbankrupt or safe zone', 'nonbankrupt or safe zone', 'nonbankrupt or safe zone', 'nonbankrupt or safe zone', 'nonbankrupt or safe zone', 'nonbankrupt or safe zone', 'nonbankrupt or safe zone', 'nonbankrupt or safe zone', 'nonbankrupt or safe zone', 'nonbankrupt or safe zone', 'nonbankrupt or safe zone', 'nonbankrupt or safe zone', 'nonbankrupt or safe zone', 'nonbankrupt or safe zone', 'nonbankrupt or safe zone', 'nonbankrupt or safe zone', 'nonbankrupt or safe zone', 'nonbankrupt or safe zone', 'nonbankrupt or safe zone', 'risk of bankruptcy or gray zone', 'risk of bankruptcy or gray zone', 'nonbankrupt or safe zone', 'nonbankrupt or safe zone', 'nonbankrupt or safe zone', 'nonbankrupt or safe zone', 'nonbankrupt or safe zone', 'nonbankrupt or safe zone', 'nonbankrupt or safe zone', 'nonbankrupt or safe zone', 'nonbankrupt or safe zone', 'nonbankrupt or safe zone', 'nonbankrupt or safe zone', 'nonbankrupt or safe zone', 'risk of bankruptcy or gray zone', 'risk of bankruptcy or gray zone', 'risk of bankruptcy or gray zone', 'risk of bankruptcy or gray zone', 'risk of bankruptcy or gray zone', 'nonbankrupt or safe zone', 'nonbankrupt or safe zone', 'risk of bankruptcy or gray zone', 'nonbankrupt or safe zone', 'nonbankrupt or safe zone', 'nonbankrupt or safe zone', 'nonbankrupt or safe zone', 'nonbankrupt or safe zone', 'nonbankrupt or safe zone', 'nonbankrupt or safe zone', 'nonbankrupt or safe zone', 'nonbankrupt or safe zone', 'nonbankrupt or safe zone', 'nonbankrupt or safe zone', 'nonbankrupt or safe zone', 'nonbankrupt or safe zone', 'nonbankrupt or safe zone', 'nonbankrupt or safe zone', 'risk of bankruptcy or gray zone', 'nonbankrupt or safe zone', 'nonbankrupt or safe zone', 'nonbankrupt or safe zone', 'nonbankrupt or safe zone', 'nonbankrupt or safe zone', 'nonbankrupt or safe zone', 'nonbankrupt or safe zone', 'nonbankrupt or safe zone', 'nonbankrupt or safe zone', 'nonbankrupt or safe zone', 'nonbankrupt or safe zone', 'nonbankrupt or safe zone', 'nonbankrupt or safe zone', 'nonbankrupt or safe zone', 'nonbankrupt or safe zone', 'nonbankrupt or safe zone', 'nonbankrupt or safe zone', 'nonbankrupt or safe zone', 'nonbankrupt or safe zone', 'nonbankrupt or safe zone', 'nonbankrupt or safe zone', 'nonbankrupt or safe zone', 'nonbankrupt or safe zone', 'nonbankrupt or safe zone', 'nonbankrupt or safe zone', 'nonbankrupt or safe zone', 'nonbankrupt or safe zone', 'nonbankrupt or safe zone', 'nonbankrupt or safe zone', 'nonbankrupt or safe zone', 'nonbankrupt or safe zone', 'nonbankrupt or safe zone', 'risk of bankruptcy or gray zone', 'risk of bankruptcy or gray zone', 'bankrupt or distress zone', 'bankrupt or distress zone', 'bankrupt or distress zone', 'risk of bankruptcy or gray zone', 'risk of bankruptcy or gray zone', 'risk of bankruptcy or gray zone', 'nonbankrupt or safe zone', 'nonbankrupt or safe zone', 'nonbankrupt or safe zone', 'nonbankrupt or safe zone', 'bankrupt or distress zone', 'bankrupt or distress zone', 'nonbankrupt or safe zone', 'nonbankrupt or safe zone', 'nonbankrupt or safe zone', 'nonbankrupt or safe zone', 'nonbankrupt or safe zone', 'nonbankrupt or safe zone', 'nonbankrupt or safe zone', 'nonbankrupt or safe zone', 'nonbankrupt or safe zone', 'nonbankrupt or safe zone', 'nonbankrupt or safe zone', 'nonbankrupt or safe zone', 'nonbankrupt or safe zone', 'nonbankrupt or safe zone', 'nonbankrupt or safe zone', 'nonbankrupt or safe zone', 'nonbankrupt or safe zone', 'nonbankrupt or safe zone', 'nonbankrupt or safe zone', 'nonbankrupt or safe zone', 'nonbankrupt or safe zone', 'nonbankrupt or safe zone', 'nonbankrupt or safe zone', 'risk of bankruptcy or gray zone', 'bankrupt or distress zone', 'bankrupt or distress zone', 'bankrupt or distress zone', 'bankrupt or distress zone', 'bankrupt or distress zone', 'nonbankrupt or safe zone', 'nonbankrupt or safe zone', 'nonbankrupt or safe zone', 'nonbankrupt or safe zone', 'risk of bankruptcy or gray zone', 'risk of bankruptcy or gray zone', 'risk of bankruptcy or gray zone', 'risk of bankruptcy or gray zone', 'bankrupt or distress zone', 'risk of bankruptcy or gray zone', 'risk of bankruptcy or gray zone', 'risk of bankruptcy or gray zone', 'bankrupt or distress zone', 'risk of bankruptcy or gray zone', 'risk of bankruptcy or gray zone', 'risk of bankruptcy or gray zone', 'risk of bankruptcy or gray zone', 'risk of bankruptcy or gray zone', 'bankrupt or distress zone', 'bankrupt or distress zone', 'nonbankrupt or safe zone', 'nonbankrupt or safe zone', 'risk of bankruptcy or gray zone', 'risk of bankruptcy or gray zone', 'risk of bankruptcy or gray zone', 'risk of bankruptcy or gray zone', 'nonbankrupt or safe zone', 'risk of bankruptcy or gray zone', 'nonbankrupt or safe zone', 'nonbankrupt or safe zone', 'nonbankrupt or safe zone', 'nonbankrupt or safe zone', 'nonbankrupt or safe zone', 'nonbankrupt or safe zone', 'risk of bankruptcy or gray zone', 'nonbankrupt or safe zone', 'nonbankrupt or safe zone', 'nonbankrupt or safe zone', 'nonbankrupt or safe zone', 'nonbankrupt or safe zone', 'nonbankrupt or safe zone', 'nonbankrupt or safe zone', 'nonbankrupt or safe zone', 'risk of bankruptcy or gray zone', 'nonbankrupt or safe zone', 'nonbankrupt or safe zone', 'nonbankrupt or safe zone', 'nonbankrupt or safe zone', 'nonbankrupt or safe zone', 'nonbankrupt or safe zone', 'nonbankrupt or safe zone', 'risk of bankruptcy or gray zone', 'risk of bankruptcy or gray zone', 'risk of bankruptcy or gray zone', 'risk of bankruptcy or gray zone', 'nonbankrupt or safe zone', 'nonbankrupt or safe zone', 'nonbankrupt or safe zone', 'risk of bankruptcy or gray zone', 'risk of bankruptcy or gray zone', 'nonbankrupt or safe zone', 'nonbankrupt or safe zone', 'nonbankrupt or safe zone', 'nonbankrupt or safe zone', 'nonbankrupt or safe zone', 'nonbankrupt or safe zone', 'nonbankrupt or safe zone', 'nonbankrupt or safe zone', 'nonbankrupt or safe zone', 'nonbankrupt or safe zone', 'nonbankrupt or safe zone', 'nonbankrupt or safe zone', 'nonbankrupt or safe zone', 'nonbankrupt or safe zone', 'nonbankrupt or safe zone', 'nonbankrupt or safe zone', 'nonbankrupt or safe zone', 'nonbankrupt or safe zone', 'nonbankrupt or safe zone', 'nonbankrupt or safe zone', 'nonbankrupt or safe zone', 'risk of bankruptcy or gray zone', 'risk of bankruptcy or gray zone', 'bankrupt or distress zone', 'bankrupt or distress zone', 'nonbankrupt or safe zone', 'nonbankrupt or safe zone', 'nonbankrupt or safe zone', 'nonbankrupt or safe zone', 'nonbankrupt or safe zone', 'nonbankrupt or safe zone', 'nonbankrupt or safe zone', 'risk of bankruptcy or gray zone', 'nonbankrupt or safe zone', 'risk of bankruptcy or gray zone', 'risk of bankruptcy or gray zone', 'nonbankrupt or safe zone', 'nonbankrupt or safe zone', 'nonbankrupt or safe zone', 'nonbankrupt or safe zone', 'nonbankrupt or safe zone', 'nonbankrupt or safe zone', 'nonbankrupt or safe zone', 'nonbankrupt or safe zone', 'nonbankrupt or safe zone', 'nonbankrupt or safe zone', 'risk of bankruptcy or gray zone', 'risk of bankruptcy or gray zone', 'risk of bankruptcy or gray zone', 'nonbankrupt or safe zone', 'nonbankrupt or safe zone', 'nonbankrupt or safe zone', 'nonbankrupt or safe zone', 'nonbankrupt or safe zone', 'nonbankrupt or safe zone', 'nonbankrupt or safe zone', 'nonbankrupt or safe zone', 'nonbankrupt or safe zone', 'nonbankrupt or safe zone', 'nonbankrupt or safe zone', 'nonbankrupt or safe zone', 'nonbankrupt or safe zone', 'nonbankrupt or safe zone', 'nonbankrupt or safe zone', 'nonbankrupt or safe zone', 'nonbankrupt or safe zone', 'nonbankrupt or safe zone', 'nonbankrupt or safe zone', 'nonbankrupt or safe zone', 'nonbankrupt or safe zone', 'nonbankrupt or safe zone', 'nonbankrupt or safe zone', 'nonbankrupt or safe zone', 'nonbankrupt or safe zone', 'nonbankrupt or safe zone', 'nonbankrupt or safe zone', 'nonbankrupt or safe zone', 'nonbankrupt or safe zone', 'nonbankrupt or safe zone', 'nonbankrupt or safe zone', 'risk of bankruptcy or gray zone', 'risk of bankruptcy or gray zone', 'risk of bankruptcy or gray zone', 'risk of bankruptcy or gray zone', 'risk of bankruptcy or gray zone', 'risk of bankruptcy or gray zone', 'risk of bankruptcy or gray zone', 'risk of bankruptcy or gray zone', 'risk of bankruptcy or gray zone', 'risk of bankruptcy or gray zone', 'nonbankrupt or safe zone', 'nonbankrupt or safe zone', 'nonbankrupt or safe zone', 'nonbankrupt or safe zone', 'nonbankrupt or safe zone', 'nonbankrupt or safe zone', 'nonbankrupt or safe zone', 'nonbankrupt or safe zone', 'nonbankrupt or safe zone', 'nonbankrupt or safe zone', 'nonbankrupt or safe zone', 'nonbankrupt or safe zone', 'nonbankrupt or safe zone', 'nonbankrupt or safe zone', 'nonbankrupt or safe zone', 'nonbankrupt or safe zone', 'nonbankrupt or safe zone', 'nonbankrupt or safe zone', 'nonbankrupt or safe zone', 'nonbankrupt or safe zone', 'nonbankrupt or safe zone', 'nonbankrupt or safe zone', 'nonbankrupt or safe zone', 'nonbankrupt or safe zone', 'nonbankrupt or safe zone', 'risk of bankruptcy or gray zone', 'nonbankrupt or safe zone', 'risk of bankruptcy or gray zone', 'nonbankrupt or safe zone', 'nonbankrupt or safe zone', 'nonbankrupt or safe zone', 'risk of bankruptcy or gray zone', 'risk of bankruptcy or gray zone', 'risk of bankruptcy or gray zone', 'risk of bankruptcy or gray zone', 'risk of bankruptcy or gray zone', 'risk of bankruptcy or gray zone', 'risk of bankruptcy or gray zone', 'nonbankrupt or safe zone', 'nonbankrupt or safe zone', 'nonbankrupt or safe zone', 'nonbankrupt or safe zone', 'risk of bankruptcy or gray zone', 'risk of bankruptcy or gray zone', 'risk of bankruptcy or gray zone', 'nonbankrupt or safe zone', 'nonbankrupt or safe zone', 'risk of bankruptcy or gray zone', 'bankrupt or distress zone', 'bankrupt or distress zone', 'bankrupt or distress zone', 'bankrupt or distress zone', 'bankrupt or distress zone', 'bankrupt or distress zone', 'nonbankrupt or safe zone', 'nonbankrupt or safe zone', 'nonbankrupt or safe zone', 'nonbankrupt or safe zone', 'risk of bankruptcy or gray zone', 'risk of bankruptcy or gray zone', 'risk of bankruptcy or gray zone', 'risk of bankruptcy or gray zone', 'risk of bankruptcy or gray zone', 'risk of bankruptcy or gray zone', 'risk of bankruptcy or gray zone', 'nonbankrupt or safe zone', 'nonbankrupt or safe zone', 'nonbankrupt or safe zone', 'nonbankrupt or safe zone', 'nonbankrupt or safe zone', 'nonbankrupt or safe zone', 'nonbankrupt or safe zone', 'nonbankrupt or safe zone', 'nonbankrupt or safe zone', 'nonbankrupt or safe zone', 'risk of bankruptcy or gray zone', 'nonbankrupt or safe zone', 'nonbankrupt or safe zone', 'risk of bankruptcy or gray zone', 'risk of bankruptcy or gray zone', 'bankrupt or distress zone', 'bankrupt or distress zone', 'risk of bankruptcy or gray zone', 'risk of bankruptcy or gray zone', 'nonbankrupt or safe zone', 'nonbankrupt or safe zone', 'nonbankrupt or safe zone', 'nonbankrupt or safe zone', 'nonbankrupt or safe zone', 'nonbankrupt or safe zone', 'nonbankrupt or safe zone', 'risk of bankruptcy or gray zone', 'risk of bankruptcy or gray zone', 'risk of bankruptcy or gray zone', 'risk of bankruptcy or gray zone', 'nonbankrupt or safe zone', 'nonbankrupt or safe zone', 'nonbankrupt or safe zone', 'nonbankrupt or safe zone', 'nonbankrupt or safe zone', 'nonbankrupt or safe zone', 'nonbankrupt or safe zone', 'nonbankrupt or safe zone', 'nonbankrupt or safe zone', 'nonbankrupt or safe zone', 'nonbankrupt or safe zone', 'nonbankrupt or safe zone', 'nonbankrupt or safe zone', 'nonbankrupt or safe zone', 'nonbankrupt or safe zone', 'nonbankrupt or safe zone', 'nonbankrupt or safe zone', 'nonbankrupt or safe zone', 'nonbankrupt or safe zone', 'nonbankrupt or safe zone', 'nonbankrupt or safe zone', 'nonbankrupt or safe zone', 'nonbankrupt or safe zone', 'nonbankrupt or safe zone', 'nonbankrupt or safe zone', 'risk of bankruptcy or gray zone', 'bankrupt or distress zone', 'risk of bankruptcy or gray zone', 'risk of bankruptcy or gray zone', 'risk of bankruptcy or gray zone', 'risk of bankruptcy or gray zone', 'risk of bankruptcy or gray zone', 'risk of bankruptcy or gray zone', 'risk of bankruptcy or gray zone', 'risk of bankruptcy or gray zone', 'risk of bankruptcy or gray zone', 'nonbankrupt or safe zone', 'nonbankrupt or safe zone', 'nonbankrupt or safe zone', 'nonbankrupt or safe zone', 'nonbankrupt or safe zone', 'nonbankrupt or safe zone', 'nonbankrupt or safe zone', 'nonbankrupt or safe zone', 'nonbankrupt or safe zone', 'nonbankrupt or safe zone', 'nonbankrupt or safe zone', 'nonbankrupt or safe zone', 'nonbankrupt or safe zone', 'nonbankrupt or safe zone', 'nonbankrupt or safe zone', 'risk of bankruptcy or gray zone', 'risk of bankruptcy or gray zone', 'risk of bankruptcy or gray zone', 'risk of bankruptcy or gray zone', 'risk of bankruptcy or gray zone', 'risk of bankruptcy or gray zone', 'risk of bankruptcy or gray zone', 'risk of bankruptcy or gray zone', 'risk of bankruptcy or gray zone', 'nonbankrupt or safe zone', 'nonbankrupt or safe zone', 'nonbankrupt or safe zone', 'nonbankrupt or safe zone', 'nonbankrupt or safe zone', 'nonbankrupt or safe zone', 'nonbankrupt or safe zone', 'nonbankrupt or safe zone', 'nonbankrupt or safe zone', 'nonbankrupt or safe zone', 'nonbankrupt or safe zone', 'nonbankrupt or safe zone', 'nonbankrupt or safe zone', 'nonbankrupt or safe zone', 'nonbankrupt or safe zone', 'nonbankrupt or safe zone', 'nonbankrupt or safe zone', 'bankrupt or distress zone', 'nonbankrupt or safe zone', 'nonbankrupt or safe zone', 'nonbankrupt or safe zone', 'nonbankrupt or safe zone', 'nonbankrupt or safe zone', 'nonbankrupt or safe zone', 'nonbankrupt or safe zone', 'nonbankrupt or safe zone', 'nonbankrupt or safe zone', 'risk of bankruptcy or gray zone', 'nonbankrupt or safe zone', 'nonbankrupt or safe zone', 'nonbankrupt or safe zone', 'nonbankrupt or safe zone', 'nonbankrupt or safe zone', 'nonbankrupt or safe zone', 'nonbankrupt or safe zone', 'nonbankrupt or safe zone', 'nonbankrupt or safe zone', 'bankrupt or distress zone', 'risk of bankruptcy or gray zone', 'risk of bankruptcy or gray zone', 'risk of bankruptcy or gray zone', 'risk of bankruptcy or gray zone', 'risk of bankruptcy or gray zone', 'risk of bankruptcy or gray zone', 'nonbankrupt or safe zone', 'nonbankrupt or safe zone', 'nonbankrupt or safe zone', 'nonbankrupt or safe zone', 'nonbankrupt or safe zone', 'nonbankrupt or safe zone', 'nonbankrupt or safe zone', 'nonbankrupt or safe zone', 'nonbankrupt or safe zone', 'risk of bankruptcy or gray zone', 'nonbankrupt or safe zone', 'nonbankrupt or safe zone', 'nonbankrupt or safe zone', 'nonbankrupt or safe zone', 'nonbankrupt or safe zone', 'nonbankrupt or safe zone', 'nonbankrupt or safe zone', 'nonbankrupt or safe zone', 'nonbankrupt or safe zone', 'nonbankrupt or safe zone', 'nonbankrupt or safe zone', 'nonbankrupt or safe zone', 'nonbankrupt or safe zone', 'nonbankrupt or safe zone', 'nonbankrupt or safe zone', 'nonbankrupt or safe zone', 'nonbankrupt or safe zone', 'nonbankrupt or safe zone', 'nonbankrupt or safe zone', 'bankrupt or distress zone', 'bankrupt or distress zone', 'bankrupt or distress zone', 'nonbankrupt or safe zone', 'nonbankrupt or safe zone', 'nonbankrupt or safe zone', 'nonbankrupt or safe zone', 'risk of bankruptcy or gray zone', 'nonbankrupt or safe zone', 'nonbankrupt or safe zone', 'nonbankrupt or safe zone', 'nonbankrupt or safe zone', 'nonbankrupt or safe zone', 'nonbankrupt or safe zone', 'nonbankrupt or safe zone', 'nonbankrupt or safe zone', 'nonbankrupt or safe zone', 'nonbankrupt or safe zone', 'nonbankrupt or safe zone', 'nonbankrupt or safe zone', 'nonbankrupt or safe zone', 'risk of bankruptcy or gray zone', 'risk of bankruptcy or gray zone', 'nonbankrupt or safe zone', 'nonbankrupt or safe zone', 'nonbankrupt or safe zone', 'nonbankrupt or safe zone', 'nonbankrupt or safe zone', 'nonbankrupt or safe zone', 'nonbankrupt or safe zone', 'nonbankrupt or safe zone', 'nonbankrupt or safe zone', 'nonbankrupt or safe zone', 'nonbankrupt or safe zone', 'nonbankrupt or safe zone', 'nonbankrupt or safe zone', 'nonbankrupt or safe zone', 'nonbankrupt or safe zone', 'nonbankrupt or safe zone', 'nonbankrupt or safe zone', 'nonbankrupt or safe zone', 'nonbankrupt or safe zone', 'nonbankrupt or safe zone', 'nonbankrupt or safe zone', 'nonbankrupt or safe zone', 'nonbankrupt or safe zone', 'nonbankrupt or safe zone', 'risk of bankruptcy or gray zone', 'risk of bankruptcy or gray zone', 'risk of bankruptcy or gray zone', 'nonbankrupt or safe zone', 'nonbankrupt or safe zone', 'nonbankrupt or safe zone', 'risk of bankruptcy or gray zone', 'nonbankrupt or safe zone', 'nonbankrupt or safe zone', 'nonbankrupt or safe zone', 'nonbankrupt or safe zone', 'nonbankrupt or safe zone', 'nonbankrupt or safe zone', 'nonbankrupt or safe zone', 'nonbankrupt or safe zone', 'nonbankrupt or safe zone', 'nonbankrupt or safe zone', 'nonbankrupt or safe zone', 'nonbankrupt or safe zone', 'nonbankrupt or safe zone', 'nonbankrupt or safe zone', 'nonbankrupt or safe zone', 'risk of bankruptcy or gray zone', 'nonbankrupt or safe zone', 'risk of bankruptcy or gray zone', 'nonbankrupt or safe zone', 'nonbankrupt or safe zone', 'nonbankrupt or safe zone', 'nonbankrupt or safe zone', 'nonbankrupt or safe zone', 'nonbankrupt or safe zone', 'nonbankrupt or safe zone', 'nonbankrupt or safe zone', 'nonbankrupt or safe zone', 'nonbankrupt or safe zone', 'nonbankrupt or safe zone', 'nonbankrupt or safe zone', 'nonbankrupt or safe zone', 'nonbankrupt or safe zone', 'risk of bankruptcy or gray zone', 'nonbankrupt or safe zone', 'nonbankrupt or safe zone', 'nonbankrupt or safe zone', 'nonbankrupt or safe zone', 'nonbankrupt or safe zone', 'nonbankrupt or safe zone', 'risk of bankruptcy or gray zone', 'risk of bankruptcy or gray zone', 'risk of bankruptcy or gray zone', 'bankrupt or distress zone', 'bankrupt or distress zone', 'risk of bankruptcy or gray zone', 'risk of bankruptcy or gray zone', 'bankrupt or distress zone', 'bankrupt or distress zone', 'bankrupt or distress zone', 'nonbankrupt or safe zone', 'nonbankrupt or safe zone', 'nonbankrupt or safe zone', 'nonbankrupt or safe zone', 'nonbankrupt or safe zone', 'nonbankrupt or safe zone', 'risk of bankruptcy or gray zone', 'risk of bankruptcy or gray zone', 'risk of bankruptcy or gray zone', 'nonbankrupt or safe zone', 'nonbankrupt or safe zone', 'nonbankrupt or safe zone', 'nonbankrupt or safe zone', 'nonbankrupt or safe zone', 'nonbankrupt or safe zone', 'nonbankrupt or safe zone', 'nonbankrupt or safe zone', 'nonbankrupt or safe zone', 'nonbankrupt or safe zone', 'bankrupt or distress zone', 'risk of bankruptcy or gray zone', 'nonbankrupt or safe zone', 'nonbankrupt or safe zone', 'nonbankrupt or safe zone', 'nonbankrupt or safe zone', 'nonbankrupt or safe zone', 'nonbankrupt or safe zone', 'nonbankrupt or safe zone', 'nonbankrupt or safe zone', 'nonbankrupt or safe zone', 'nonbankrupt or safe zone', 'nonbankrupt or safe zone', 'nonbankrupt or safe zone', 'nonbankrupt or safe zone', 'nonbankrupt or safe zone', 'nonbankrupt or safe zone', 'risk of bankruptcy or gray zone', 'bankrupt or distress zone', 'nonbankrupt or safe zone', 'nonbankrupt or safe zone', 'nonbankrupt or safe zone', 'nonbankrupt or safe zone', 'nonbankrupt or safe zone', 'nonbankrupt or safe zone', 'nonbankrupt or safe zone', 'nonbankrupt or safe zone', 'nonbankrupt or safe zone', 'nonbankrupt or safe zone', 'nonbankrupt or safe zone', 'nonbankrupt or safe zone', 'nonbankrupt or safe zone', 'nonbankrupt or safe zone', 'nonbankrupt or safe zone', 'nonbankrupt or safe zone', 'nonbankrupt or safe zone', 'nonbankrupt or safe zone', 'nonbankrupt or safe zone', 'nonbankrupt or safe zone', 'nonbankrupt or safe zone', 'nonbankrupt or safe zone', 'nonbankrupt or safe zone', 'nonbankrupt or safe zone', 'nonbankrupt or safe zone', 'nonbankrupt or safe zone', 'nonbankrupt or safe zone', 'nonbankrupt or safe zone', 'nonbankrupt or safe zone', 'nonbankrupt or safe zone', 'nonbankrupt or safe zone', 'nonbankrupt or safe zone', 'nonbankrupt or safe zone', 'nonbankrupt or safe zone', 'nonbankrupt or safe zone', 'nonbankrupt or safe zone', 'nonbankrupt or safe zone', 'nonbankrupt or safe zone', 'nonbankrupt or safe zone', 'bankrupt or distress zone', 'risk of bankruptcy or gray zone', 'nonbankrupt or safe zone', 'nonbankrupt or safe zone', 'nonbankrupt or safe zone', 'risk of bankruptcy or gray zone', 'risk of bankruptcy or gray zone', 'risk of bankruptcy or gray zone', 'risk of bankruptcy or gray zone', 'bankrupt or distress zone', 'nonbankrupt or safe zone', 'nonbankrupt or safe zone', 'nonbankrupt or safe zone', 'nonbankrupt or safe zone', 'nonbankrupt or safe zone', 'nonbankrupt or safe zone', 'nonbankrupt or safe zone', 'nonbankrupt or safe zone', 'nonbankrupt or safe zone', 'nonbankrupt or safe zone', 'risk of bankruptcy or gray zone', 'nonbankrupt or safe zone', 'nonbankrupt or safe zone', 'nonbankrupt or safe zone', 'nonbankrupt or safe zone', 'nonbankrupt or safe zone', 'nonbankrupt or safe zone', 'risk of bankruptcy or gray zone', 'risk of bankruptcy or gray zone', 'risk of bankruptcy or gray zone', 'nonbankrupt or safe zone', 'nonbankrupt or safe zone', 'nonbankrupt or safe zone', 'risk of bankruptcy or gray zone', 'risk of bankruptcy or gray zone', 'nonbankrupt or safe zone', 'nonbankrupt or safe zone', 'nonbankrupt or safe zone', 'nonbankrupt or safe zone', 'nonbankrupt or safe zone', 'nonbankrupt or safe zone', 'nonbankrupt or safe zone', 'nonbankrupt or safe zone', 'nonbankrupt or safe zone', 'nonbankrupt or safe zone', 'nonbankrupt or safe zone', 'nonbankrupt or safe zone', 'nonbankrupt or safe zone', 'nonbankrupt or safe zone', 'nonbankrupt or safe zone', 'nonbankrupt or safe zone', 'nonbankrupt or safe zone', 'nonbankrupt or safe zone', 'risk of bankruptcy or gray zone', 'risk of bankruptcy or gray zone', 'risk of bankruptcy or gray zone', 'nonbankrupt or safe zone', 'nonbankrupt or safe zone', 'nonbankrupt or safe zone', 'nonbankrupt or safe zone', 'nonbankrupt or safe zone', 'nonbankrupt or safe zone', 'nonbankrupt or safe zone', 'nonbankrupt or safe zone', 'nonbankrupt or safe zone', 'risk of bankruptcy or gray zone', 'nonbankrupt or safe zone', 'nonbankrupt or safe zone', 'nonbankrupt or safe zone', 'nonbankrupt or safe zone', 'nonbankrupt or safe zone', 'nonbankrupt or safe zone', 'nonbankrupt or safe zone', 'nonbankrupt or safe zone', 'nonbankrupt or safe zone', 'nonbankrupt or safe zone', 'nonbankrupt or safe zone', 'nonbankrupt or safe zone', 'risk of bankruptcy or gray zone', 'nonbankrupt or safe zone', 'nonbankrupt or safe zone', 'nonbankrupt or safe zone', 'nonbankrupt or safe zone', 'nonbankrupt or safe zone', 'nonbankrupt or safe zone', 'nonbankrupt or safe zone', 'nonbankrupt or safe zone', 'nonbankrupt or safe zone', 'nonbankrupt or safe zone', 'nonbankrupt or safe zone', 'nonbankrupt or safe zone', 'nonbankrupt or safe zone', 'nonbankrupt or safe zone', 'nonbankrupt or safe zone', 'nonbankrupt or safe zone', 'nonbankrupt or safe zone', 'nonbankrupt or safe zone', 'nonbankrupt or safe zone', 'nonbankrupt or safe zone', 'bankrupt or distress zone', 'risk of bankruptcy or gray zone', 'nonbankrupt or safe zone', 'risk of bankruptcy or gray zone', 'risk of bankruptcy or gray zone', 'risk of bankruptcy or gray zone', 'nonbankrupt or safe zone', 'nonbankrupt or safe zone', 'risk of bankruptcy or gray zone', 'nonbankrupt or safe zone', 'nonbankrupt or safe zone', 'risk of bankruptcy or gray zone', 'risk of bankruptcy or gray zone', 'risk of bankruptcy or gray zone', 'nonbankrupt or safe zone', 'nonbankrupt or safe zone', 'nonbankrupt or safe zone', 'nonbankrupt or safe zone', 'nonbankrupt or safe zone', 'nonbankrupt or safe zone', 'nonbankrupt or safe zone', 'nonbankrupt or safe zone', 'nonbankrupt or safe zone', 'nonbankrupt or safe zone', 'nonbankrupt or safe zone', 'nonbankrupt or safe zone', 'nonbankrupt or safe zone', 'nonbankrupt or safe zone', 'nonbankrupt or safe zone', 'nonbankrupt or safe zone', 'nonbankrupt or safe zone', 'nonbankrupt or safe zone', 'nonbankrupt or safe zone', 'nonbankrupt or safe zone', 'nonbankrupt or safe zone', 'nonbankrupt or safe zone', 'nonbankrupt or safe zone', 'nonbankrupt or safe zone', 'nonbankrupt or safe zone', 'nonbankrupt or safe zone', 'nonbankrupt or safe zone', 'nonbankrupt or safe zone', 'nonbankrupt or safe zone', 'nonbankrupt or safe zone', 'nonbankrupt or safe zone', 'nonbankrupt or safe zone', 'nonbankrupt or safe zone', 'nonbankrupt or safe zone', 'nonbankrupt or safe zone', 'nonbankrupt or safe zone', 'nonbankrupt or safe zone', 'nonbankrupt or safe zone', 'nonbankrupt or safe zone', 'nonbankrupt or safe zone', 'nonbankrupt or safe zone', 'nonbankrupt or safe zone', 'nonbankrupt or safe zone', 'nonbankrupt or safe zone', 'nonbankrupt or safe zone', 'nonbankrupt or safe zone', 'nonbankrupt or safe zone', 'nonbankrupt or safe zone', 'nonbankrupt or safe zone', 'risk of bankruptcy or gray zone', 'nonbankrupt or safe zone', 'nonbankrupt or safe zone', 'risk of bankruptcy or gray zone', 'nonbankrupt or safe zone', 'nonbankrupt or safe zone', 'risk of bankruptcy or gray zone', 'risk of bankruptcy or gray zone', 'bankrupt or distress zone', 'risk of bankruptcy or gray zone', 'nonbankrupt or safe zone', 'nonbankrupt or safe zone', 'nonbankrupt or safe zone', 'nonbankrupt or safe zone', 'nonbankrupt or safe zone', 'nonbankrupt or safe zone', 'nonbankrupt or safe zone', 'nonbankrupt or safe zone', 'nonbankrupt or safe zone', 'nonbankrupt or safe zone', 'risk of bankruptcy or gray zone', 'bankrupt or distress zone', 'bankrupt or distress zone', 'bankrupt or distress zone', 'bankrupt or distress zone', 'risk of bankruptcy or gray zone', 'risk of bankruptcy or gray zone', 'nonbankrupt or safe zone', 'nonbankrupt or safe zone', 'risk of bankruptcy or gray zone', 'nonbankrupt or safe zone', 'nonbankrupt or safe zone', 'nonbankrupt or safe zone', 'nonbankrupt or safe zone', 'nonbankrupt or safe zone', 'nonbankrupt or safe zone', 'nonbankrupt or safe zone', 'nonbankrupt or safe zone', 'nonbankrupt or safe zone', 'bankrupt or distress zone', 'risk of bankruptcy or gray zone', 'risk of bankruptcy or gray zone', 'risk of bankruptcy or gray zone', 'risk of bankruptcy or gray zone', 'risk of bankruptcy or gray zone', 'risk of bankruptcy or gray zone', 'risk of bankruptcy or gray zone', 'nonbankrupt or safe zone', 'nonbankrupt or safe zone', 'nonbankrupt or safe zone', 'nonbankrupt or safe zone', 'nonbankrupt or safe zone', 'nonbankrupt or safe zone', 'risk of bankruptcy or gray zone', 'nonbankrupt or safe zone', 'risk of bankruptcy or gray zone', 'nonbankrupt or safe zone', 'nonbankrupt or safe zone', 'nonbankrupt or safe zone', 'nonbankrupt or safe zone', 'nonbankrupt or safe zone', 'nonbankrupt or safe zone', 'nonbankrupt or safe zone', 'nonbankrupt or safe zone', 'nonbankrupt or safe zone', 'nonbankrupt or safe zone', 'nonbankrupt or safe zone', 'nonbankrupt or safe zone', 'nonbankrupt or safe zone', 'nonbankrupt or safe zone', 'nonbankrupt or safe zone', 'nonbankrupt or safe zone', 'nonbankrupt or safe zone', 'nonbankrupt or safe zone', 'risk of bankruptcy or gray zone', 'risk of bankruptcy or gray zone', 'nonbankrupt or safe zone', 'risk of bankruptcy or gray zone', 'risk of bankruptcy or gray zone', 'nonbankrupt or safe zone', 'nonbankrupt or safe zone', 'nonbankrupt or safe zone', 'nonbankrupt or safe zone', 'risk of bankruptcy or gray zone', 'nonbankrupt or safe zone', 'nonbankrupt or safe zone', 'nonbankrupt or safe zone', 'nonbankrupt or safe zone', 'nonbankrupt or safe zone', 'nonbankrupt or safe zone', 'nonbankrupt or safe zone', 'nonbankrupt or safe zone', 'nonbankrupt or safe zone', 'nonbankrupt or safe zone', 'nonbankrupt or safe zone', 'nonbankrupt or safe zone', 'risk of bankruptcy or gray zone', 'risk of bankruptcy or gray zone', 'nonbankrupt or safe zone', 'nonbankrupt or safe zone', 'risk of bankruptcy or gray zone', 'risk of bankruptcy or gray zone', 'risk of bankruptcy or gray zone', 'risk of bankruptcy or gray zone', 'nonbankrupt or safe zone', 'nonbankrupt or safe zone', 'nonbankrupt or safe zone', 'nonbankrupt or safe zone', 'nonbankrupt or safe zone', 'nonbankrupt or safe zone', 'nonbankrupt or safe zone', 'nonbankrupt or safe zone', 'risk of bankruptcy or gray zone', 'nonbankrupt or safe zone', 'nonbankrupt or safe zone', 'nonbankrupt or safe zone', 'nonbankrupt or safe zone', 'nonbankrupt or safe zone', 'nonbankrupt or safe zone', 'nonbankrupt or safe zone', 'nonbankrupt or safe zone', 'nonbankrupt or safe zone', 'nonbankrupt or safe zone', 'nonbankrupt or safe zone', 'nonbankrupt or safe zone', 'nonbankrupt or safe zone', 'nonbankrupt or safe zone', 'nonbankrupt or safe zone', 'nonbankrupt or safe zone', 'nonbankrupt or safe zone', 'nonbankrupt or safe zone', 'nonbankrupt or safe zone', 'nonbankrupt or safe zone', 'risk of bankruptcy or gray zone', 'risk of bankruptcy or gray zone', 'risk of bankruptcy or gray zone', 'risk of bankruptcy or gray zone', 'nonbankrupt or safe zone', 'nonbankrupt or safe zone', 'nonbankrupt or safe zone', 'nonbankrupt or safe zone', 'nonbankrupt or safe zone', 'risk of bankruptcy or gray zone', 'risk of bankruptcy or gray zone', 'risk of bankruptcy or gray zone', 'risk of bankruptcy or gray zone', 'nonbankrupt or safe zone', 'nonbankrupt or safe zone', 'bankrupt or distress zone', 'bankrupt or distress zone', 'bankrupt or distress zone', 'bankrupt or distress zone', 'bankrupt or distress zone', 'bankrupt or distress zone', 'bankrupt or distress zone', 'bankrupt or distress zone', 'bankrupt or distress zone', 'bankrupt or distress zone', 'bankrupt or distress zone', 'bankrupt or distress zone', 'bankrupt or distress zone', 'bankrupt or distress zone', 'bankrupt or distress zone', 'bankrupt or distress zone', 'bankrupt or distress zone', 'risk of bankruptcy or gray zone', 'risk of bankruptcy or gray zone', 'risk of bankruptcy or gray zone', 'risk of bankruptcy or gray zone', 'risk of bankruptcy or gray zone', 'risk of bankruptcy or gray zone', 'risk of bankruptcy or gray zone', 'risk of bankruptcy or gray zone', 'risk of bankruptcy or gray zone', 'nonbankrupt or safe zone', 'nonbankrupt or safe zone', 'nonbankrupt or safe zone', 'risk of bankruptcy or gray zone', 'risk of bankruptcy or gray zone', 'risk of bankruptcy or gray zone', 'nonbankrupt or safe zone', 'nonbankrupt or safe zone', 'nonbankrupt or safe zone', 'nonbankrupt or safe zone', 'nonbankrupt or safe zone', 'nonbankrupt or safe zone', 'nonbankrupt or safe zone', 'nonbankrupt or safe zone', 'nonbankrupt or safe zone', 'nonbankrupt or safe zone', 'nonbankrupt or safe zone', 'risk of bankruptcy or gray zone', 'risk of bankruptcy or gray zone', 'nonbankrupt or safe zone', 'nonbankrupt or safe zone', 'nonbankrupt or safe zone', 'nonbankrupt or safe zone', 'risk of bankruptcy or gray zone', 'risk of bankruptcy or gray zone', 'risk of bankruptcy or gray zone', 'risk of bankruptcy or gray zone', 'risk of bankruptcy or gray zone', 'risk of bankruptcy or gray zone', 'risk of bankruptcy or gray zone', 'nonbankrupt or safe zone', 'nonbankrupt or safe zone', 'nonbankrupt or safe zone', 'nonbankrupt or safe zone', 'nonbankrupt or safe zone', 'nonbankrupt or safe zone', 'nonbankrupt or safe zone', 'nonbankrupt or safe zone', 'nonbankrupt or safe zone', 'bankrupt or distress zone', 'bankrupt or distress zone', 'risk of bankruptcy or gray zone', 'bankrupt or distress zone', 'bankrupt or distress zone', 'bankrupt or distress zone', 'nonbankrupt or safe zone', 'nonbankrupt or safe zone', 'nonbankrupt or safe zone', 'nonbankrupt or safe zone', 'nonbankrupt or safe zone', 'nonbankrupt or safe zone', 'nonbankrupt or safe zone', 'nonbankrupt or safe zone', 'risk of bankruptcy or gray zone', 'risk of bankruptcy or gray zone', 'risk of bankruptcy or gray zone', 'risk of bankruptcy or gray zone', 'risk of bankruptcy or gray zone', 'risk of bankruptcy or gray zone', 'risk of bankruptcy or gray zone', 'risk of bankruptcy or gray zone', 'bankrupt or distress zone', 'risk of bankruptcy or gray zone', 'risk of bankruptcy or gray zone', 'nonbankrupt or safe zone', 'nonbankrupt or safe zone', 'nonbankrupt or safe zone', 'nonbankrupt or safe zone', 'nonbankrupt or safe zone', 'nonbankrupt or safe zone', 'nonbankrupt or safe zone', 'nonbankrupt or safe zone', 'nonbankrupt or safe zone', 'nonbankrupt or safe zone', 'nonbankrupt or safe zone', 'nonbankrupt or safe zone', 'nonbankrupt or safe zone', 'nonbankrupt or safe zone', 'nonbankrupt or safe zone', 'nonbankrupt or safe zone', 'nonbankrupt or safe zone', 'nonbankrupt or safe zone', 'nonbankrupt or safe zone', 'nonbankrupt or safe zone', 'risk of bankruptcy or gray zone', 'nonbankrupt or safe zone', 'nonbankrupt or safe zone', 'nonbankrupt or safe zone', 'risk of bankruptcy or gray zone', 'risk of bankruptcy or gray zone', 'risk of bankruptcy or gray zone', 'risk of bankruptcy or gray zone', 'risk of bankruptcy or gray zone', 'risk of bankruptcy or gray zone', 'risk of bankruptcy or gray zone', 'nonbankrupt or safe zone', 'risk of bankruptcy or gray zone', 'nonbankrupt or safe zone', 'nonbankrupt or safe zone', 'nonbankrupt or safe zone', 'nonbankrupt or safe zone', 'nonbankrupt or safe zone', 'bankrupt or distress zone', 'bankrupt or distress zone', 'bankrupt or distress zone', 'bankrupt or distress zone', 'bankrupt or distress zone', 'bankrupt or distress zone', 'nonbankrupt or safe zone', 'nonbankrupt or safe zone', 'nonbankrupt or safe zone', 'nonbankrupt or safe zone', 'nonbankrupt or safe zone', 'nonbankrupt or safe zone', 'nonbankrupt or safe zone', 'nonbankrupt or safe zone', 'nonbankrupt or safe zone', 'nonbankrupt or safe zone', 'nonbankrupt or safe zone', 'nonbankrupt or safe zone', 'nonbankrupt or safe zone', 'nonbankrupt or safe zone', 'nonbankrupt or safe zone', 'nonbankrupt or safe zone', 'nonbankrupt or safe zone', 'nonbankrupt or safe zone', 'nonbankrupt or safe zone', 'risk of bankruptcy or gray zone', 'risk of bankruptcy or gray zone', 'bankrupt or distress zone', 'bankrupt or distress zone', 'bankrupt or distress zone', 'bankrupt or distress zone', 'bankrupt or distress zone', 'nonbankrupt or safe zone', 'nonbankrupt or safe zone', 'nonbankrupt or safe zone', 'nonbankrupt or safe zone', 'nonbankrupt or safe zone', 'risk of bankruptcy or gray zone', 'nonbankrupt or safe zone', 'nonbankrupt or safe zone', 'nonbankrupt or safe zone', 'nonbankrupt or safe zone', 'nonbankrupt or safe zone', 'nonbankrupt or safe zone', 'nonbankrupt or safe zone', 'nonbankrupt or safe zone', 'nonbankrupt or safe zone', 'nonbankrupt or safe zone', 'nonbankrupt or safe zone', 'nonbankrupt or safe zone', 'nonbankrupt or safe zone', 'risk of bankruptcy or gray zone', 'risk of bankruptcy or gray zone', 'risk of bankruptcy or gray zone', 'nonbankrupt or safe zone', 'nonbankrupt or safe zone', 'nonbankrupt or safe zone', 'nonbankrupt or safe zone', 'nonbankrupt or safe zone', 'nonbankrupt or safe zone', 'nonbankrupt or safe zone', 'nonbankrupt or safe zone', 'risk of bankruptcy or gray zone', 'bankrupt or distress zone', 'bankrupt or distress zone', 'bankrupt or distress zone', 'bankrupt or distress zone', 'bankrupt or distress zone', 'bankrupt or distress zone', 'bankrupt or distress zone', 'bankrupt or distress zone', 'nonbankrupt or safe zone', 'nonbankrupt or safe zone', 'risk of bankruptcy or gray zone', 'risk of bankruptcy or gray zone', 'risk of bankruptcy or gray zone', 'bankrupt or distress zone', 'bankrupt or distress zone', 'bankrupt or distress zone', 'bankrupt or distress zone', 'bankrupt or distress zone', 'bankrupt or distress zone', 'bankrupt or distress zone', 'risk of bankruptcy or gray zone', 'risk of bankruptcy or gray zone', 'bankrupt or distress zone', 'risk of bankruptcy or gray zone', 'risk of bankruptcy or gray zone', 'risk of bankruptcy or gray zone', 'risk of bankruptcy or gray zone', 'risk of bankruptcy or gray zone', 'bankrupt or distress zone', 'bankrupt or distress zone', 'nonbankrupt or safe zone', 'nonbankrupt or safe zone', 'nonbankrupt or safe zone', 'nonbankrupt or safe zone', 'nonbankrupt or safe zone', 'nonbankrupt or safe zone', 'nonbankrupt or safe zone', 'nonbankrupt or safe zone', 'nonbankrupt or safe zone', 'risk of bankruptcy or gray zone', 'risk of bankruptcy or gray zone', 'nonbankrupt or safe zone', 'nonbankrupt or safe zone', 'nonbankrupt or safe zone', 'nonbankrupt or safe zone', 'nonbankrupt or safe zone', 'nonbankrupt or safe zone', 'nonbankrupt or safe zone', 'nonbankrupt or safe zone', 'risk of bankruptcy or gray zone', 'nonbankrupt or safe zone', 'nonbankrupt or safe zone', 'nonbankrupt or safe zone', 'nonbankrupt or safe zone', 'nonbankrupt or safe zone', 'nonbankrupt or safe zone', 'risk of bankruptcy or gray zone', 'risk of bankruptcy or gray zone', 'risk of bankruptcy or gray zone', 'nonbankrupt or safe zone', 'nonbankrupt or safe zone', 'nonbankrupt or safe zone', 'nonbankrupt or safe zone', 'nonbankrupt or safe zone', 'nonbankrupt or safe zone', 'nonbankrupt or safe zone', 'bankrupt or distress zone', 'bankrupt or distress zone', 'bankrupt or distress zone', 'bankrupt or distress zone', 'bankrupt or distress zone', 'risk of bankruptcy or gray zone', 'nonbankrupt or safe zone', 'nonbankrupt or safe zone', 'nonbankrupt or safe zone', 'risk of bankruptcy or gray zone', 'risk of bankruptcy or gray zone', 'bankrupt or distress zone', 'bankrupt or distress zone', 'bankrupt or distress zone', 'bankrupt or distress zone', 'nonbankrupt or safe zone', 'risk of bankruptcy or gray zone', 'risk of bankruptcy or gray zone', 'risk of bankruptcy or gray zone', 'nonbankrupt or safe zone', 'risk of bankruptcy or gray zone', 'risk of bankruptcy or gray zone', 'risk of bankruptcy or gray zone', 'risk of bankruptcy or gray zone', 'risk of bankruptcy or gray zone', 'risk of bankruptcy or gray zone', 'nonbankrupt or safe zone', 'nonbankrupt or safe zone', 'nonbankrupt or safe zone', 'nonbankrupt or safe zone', 'nonbankrupt or safe zone', 'nonbankrupt or safe zone', 'risk of bankruptcy or gray zone', 'nonbankrupt or safe zone', 'nonbankrupt or safe zone', 'nonbankrupt or safe zone', 'bankrupt or distress zone', 'bankrupt or distress zone', 'bankrupt or distress zone', 'bankrupt or distress zone', 'bankrupt or distress zone', 'bankrupt or distress zone', 'bankrupt or distress zone', 'bankrupt or distress zone', 'bankrupt or distress zone', 'risk of bankruptcy or gray zone', 'nonbankrupt or safe zone', 'nonbankrupt or safe zone', 'nonbankrupt or safe zone', 'nonbankrupt or safe zone', 'bankrupt or distress zone', 'bankrupt or distress zone', 'bankrupt or distress zone', 'nonbankrupt or safe zone', 'risk of bankruptcy or gray zone', 'nonbankrupt or safe zone', 'nonbankrupt or safe zone', 'nonbankrupt or safe zone', 'risk of bankruptcy or gray zone', 'risk of bankruptcy or gray zone', 'nonbankrupt or safe zone', 'risk of bankruptcy or gray zone', 'bankrupt or distress zone', 'risk of bankruptcy or gray zone', 'risk of bankruptcy or gray zone', 'nonbankrupt or safe zone', 'nonbankrupt or safe zone', 'nonbankrupt or safe zone', 'nonbankrupt or safe zone', 'nonbankrupt or safe zone', 'nonbankrupt or safe zone', 'nonbankrupt or safe zone', 'risk of bankruptcy or gray zone', 'risk of bankruptcy or gray zone', 'bankrupt or distress zone', 'risk of bankruptcy or gray zone', 'risk of bankruptcy or gray zone', 'risk of bankruptcy or gray zone', 'risk of bankruptcy or gray zone', 'bankrupt or distress zone', 'nonbankrupt or safe zone', 'risk of bankruptcy or gray zone', 'nonbankrupt or safe zone', 'nonbankrupt or safe zone', 'bankrupt or distress zone', 'bankrupt or distress zone', 'bankrupt or distress zone', 'bankrupt or distress zone', 'bankrupt or distress zone', 'nonbankrupt or safe zone', 'nonbankrupt or safe zone', 'nonbankrupt or safe zone', 'nonbankrupt or safe zone', 'nonbankrupt or safe zone', 'nonbankrupt or safe zone', 'nonbankrupt or safe zone', 'nonbankrupt or safe zone', 'risk of bankruptcy or gray zone', 'bankrupt or distress zone', 'risk of bankruptcy or gray zone', 'risk of bankruptcy or gray zone', 'risk of bankruptcy or gray zone', 'risk of bankruptcy or gray zone', 'nonbankrupt or safe zone', 'nonbankrupt or safe zone', 'nonbankrupt or safe zone', 'nonbankrupt or safe zone', 'nonbankrupt or safe zone', 'nonbankrupt or safe zone', 'nonbankrupt or safe zone', 'nonbankrupt or safe zone', 'nonbankrupt or safe zone', 'nonbankrupt or safe zone', 'nonbankrupt or safe zone', 'nonbankrupt or safe zone', 'nonbankrupt or safe zone', 'nonbankrupt or safe zone', 'nonbankrupt or safe zone', 'nonbankrupt or safe zone', 'nonbankrupt or safe zone', 'nonbankrupt or safe zone', 'nonbankrupt or safe zone', 'bankrupt or distress zone', 'bankrupt or distress zone', 'bankrupt or distress zone', 'bankrupt or distress zone', 'nonbankrupt or safe zone', 'nonbankrupt or safe zone', 'nonbankrupt or safe zone', 'nonbankrupt or safe zone', 'nonbankrupt or safe zone', 'risk of bankruptcy or gray zone', 'risk of bankruptcy or gray zone', 'risk of bankruptcy or gray zone', 'nonbankrupt or safe zone', 'nonbankrupt or safe zone', 'nonbankrupt or safe zone', 'nonbankrupt or safe zone', 'risk of bankruptcy or gray zone', 'nonbankrupt or safe zone', 'risk of bankruptcy or gray zone', 'risk of bankruptcy or gray zone', 'bankrupt or distress zone', 'risk of bankruptcy or gray zone', 'bankrupt or distress zone', 'bankrupt or distress zone', 'bankrupt or distress zone', 'bankrupt or distress zone', 'nonbankrupt or safe zone', 'bankrupt or distress zone', 'risk of bankruptcy or gray zone', 'risk of bankruptcy or gray zone', 'risk of bankruptcy or gray zone', 'risk of bankruptcy or gray zone', 'risk of bankruptcy or gray zone', 'risk of bankruptcy or gray zone', 'risk of bankruptcy or gray zone', 'bankrupt or distress zone', 'bankrupt or distress zone', 'bankrupt or distress zone', 'risk of bankruptcy or gray zone', 'risk of bankruptcy or gray zone', 'nonbankrupt or safe zone', 'nonbankrupt or safe zone', 'nonbankrupt or safe zone', 'nonbankrupt or safe zone', 'nonbankrupt or safe zone', 'risk of bankruptcy or gray zone', 'risk of bankruptcy or gray zone', 'nonbankrupt or safe zone', 'risk of bankruptcy or gray zone', 'risk of bankruptcy or gray zone', 'risk of bankruptcy or gray zone', 'risk of bankruptcy or gray zone', 'risk of bankruptcy or gray zone', 'risk of bankruptcy or gray zone', 'risk of bankruptcy or gray zone', 'risk of bankruptcy or gray zone', 'risk of bankruptcy or gray zone', 'risk of bankruptcy or gray zone', 'risk of bankruptcy or gray zone', 'nonbankrupt or safe zone', 'nonbankrupt or safe zone', 'nonbankrupt or safe zone', 'nonbankrupt or safe zone', 'nonbankrupt or safe zone', 'bankrupt or distress zone', 'bankrupt or distress zone', 'bankrupt or distress zone', 'bankrupt or distress zone', 'nonbankrupt or safe zone', 'nonbankrupt or safe zone', 'nonbankrupt or safe zone', 'risk of bankruptcy or gray zone', 'risk of bankruptcy or gray zone', 'nonbankrupt or safe zone', 'nonbankrupt or safe zone', 'nonbankrupt or safe zone', 'nonbankrupt or safe zone', 'nonbankrupt or safe zone', 'nonbankrupt or safe zone', 'nonbankrupt or safe zone', 'nonbankrupt or safe zone', 'nonbankrupt or safe zone', 'nonbankrupt or safe zone', 'nonbankrupt or safe zone', 'nonbankrupt or safe zone', 'nonbankrupt or safe zone', 'nonbankrupt or safe zone', 'nonbankrupt or safe zone', 'nonbankrupt or safe zone', 'nonbankrupt or safe zone', 'nonbankrupt or safe zone', 'nonbankrupt or safe zone', 'nonbankrupt or safe zone', 'nonbankrupt or safe zone', 'bankrupt or distress zone', 'bankrupt or distress zone', 'bankrupt or distress zone', 'nonbankrupt or safe zone', 'nonbankrupt or safe zone', 'nonbankrupt or safe zone', 'nonbankrupt or safe zone', 'nonbankrupt or safe zone', 'bankrupt or distress zone', 'bankrupt or distress zone', 'bankrupt or distress zone', 'bankrupt or distress zone', 'bankrupt or distress zone', 'bankrupt or distress zone', 'bankrupt or distress zone', 'bankrupt or distress zone', 'bankrupt or distress zone', 'bankrupt or distress zone', 'bankrupt or distress zone', 'bankrupt or distress zone', 'bankrupt or distress zone', 'bankrupt or distress zone', 'bankrupt or distress zone', 'nonbankrupt or safe zone', 'nonbankrupt or safe zone', 'nonbankrupt or safe zone', 'nonbankrupt or safe zone', 'nonbankrupt or safe zone', 'nonbankrupt or safe zone', 'nonbankrupt or safe zone', 'nonbankrupt or safe zone', 'nonbankrupt or safe zone', 'nonbankrupt or safe zone', 'nonbankrupt or safe zone', 'nonbankrupt or safe zone', 'risk of bankruptcy or gray zone', 'bankrupt or distress zone', 'bankrupt or distress zone', 'bankrupt or distress zone', 'risk of bankruptcy or gray zone', 'risk of bankruptcy or gray zone', 'risk of bankruptcy or gray zone', 'bankrupt or distress zone', 'risk of bankruptcy or gray zone', 'risk of bankruptcy or gray zone', 'bankrupt or distress zone', 'bankrupt or distress zone', 'bankrupt or distress zone', 'bankrupt or distress zone', 'nonbankrupt or safe zone', 'nonbankrupt or safe zone', 'nonbankrupt or safe zone', 'nonbankrupt or safe zone', 'nonbankrupt or safe zone', 'nonbankrupt or safe zone', 'nonbankrupt or safe zone', 'bankrupt or distress zone', 'risk of bankruptcy or gray zone', 'bankrupt or distress zone', 'risk of bankruptcy or gray zone', 'bankrupt or distress zone', 'bankrupt or distress zone', 'nonbankrupt or safe zone', 'nonbankrupt or safe zone', 'nonbankrupt or safe zone', 'nonbankrupt or safe zone', 'nonbankrupt or safe zone', 'risk of bankruptcy or gray zone', 'bankrupt or distress zone', 'risk of bankruptcy or gray zone', 'nonbankrupt or safe zone', 'risk of bankruptcy or gray zone', 'risk of bankruptcy or gray zone', 'risk of bankruptcy or gray zone', 'risk of bankruptcy or gray zone', 'bankrupt or distress zone', 'nonbankrupt or safe zone', 'nonbankrupt or safe zone', 'nonbankrupt or safe zone', 'nonbankrupt or safe zone', 'nonbankrupt or safe zone', 'nonbankrupt or safe zone', 'nonbankrupt or safe zone', 'nonbankrupt or safe zone', 'nonbankrupt or safe zone', 'risk of bankruptcy or gray zone', 'risk of bankruptcy or gray zone', 'nonbankrupt or safe zone', 'risk of bankruptcy or gray zone', 'risk of bankruptcy or gray zone', 'nonbankrupt or safe zone', 'nonbankrupt or safe zone', 'nonbankrupt or safe zone', 'nonbankrupt or safe zone', 'nonbankrupt or safe zone', 'nonbankrupt or safe zone', 'nonbankrupt or safe zone', 'nonbankrupt or safe zone', 'risk of bankruptcy or gray zone', 'nonbankrupt or safe zone', 'nonbankrupt or safe zone', 'nonbankrupt or safe zone', 'nonbankrupt or safe zone', 'nonbankrupt or safe zone', 'bankrupt or distress zone', 'risk of bankruptcy or gray zone', 'risk of bankruptcy or gray zone', 'bankrupt or distress zone', 'bankrupt or distress zone', 'bankrupt or distress zone', 'bankrupt or distress zone', 'risk of bankruptcy or gray zone', 'nonbankrupt or safe zone', 'nonbankrupt or safe zone', 'nonbankrupt or safe zone', 'nonbankrupt or safe zone', 'bankrupt or distress zone', 'bankrupt or distress zone', 'risk of bankruptcy or gray zone', 'risk of bankruptcy or gray zone', 'bankrupt or distress zone', 'bankrupt or distress zone', 'nonbankrupt or safe zone', 'nonbankrupt or safe zone', 'nonbankrupt or safe zone', 'nonbankrupt or safe zone', 'risk of bankruptcy or gray zone', 'nonbankrupt or safe zone', 'nonbankrupt or safe zone', 'nonbankrupt or safe zone', 'nonbankrupt or safe zone', 'nonbankrupt or safe zone', 'nonbankrupt or safe zone', 'nonbankrupt or safe zone', 'nonbankrupt or safe zone', 'nonbankrupt or safe zone', 'nonbankrupt or safe zone', 'nonbankrupt or safe zone', 'nonbankrupt or safe zone', 'nonbankrupt or safe zone', 'nonbankrupt or safe zone', 'nonbankrupt or safe zone', 'bankrupt or distress zone', 'bankrupt or distress zone', 'bankrupt or distress zone', 'bankrupt or distress zone', 'bankrupt or distress zone', 'bankrupt or distress zone', 'bankrupt or distress zone', 'bankrupt or distress zone', 'bankrupt or distress zone', 'bankrupt or distress zone', 'nonbankrupt or safe zone', 'nonbankrupt or safe zone', 'nonbankrupt or safe zone', 'nonbankrupt or safe zone', 'nonbankrupt or safe zone', 'risk of bankruptcy or gray zone', 'nonbankrupt or safe zone', 'nonbankrupt or safe zone', 'nonbankrupt or safe zone', 'nonbankrupt or safe zone', 'nonbankrupt or safe zone', 'nonbankrupt or safe zone', 'nonbankrupt or safe zone', 'nonbankrupt or safe zone', 'nonbankrupt or safe zone', 'nonbankrupt or safe zone', 'nonbankrupt or safe zone', 'risk of bankruptcy or gray zone', 'risk of bankruptcy or gray zone', 'risk of bankruptcy or gray zone', 'risk of bankruptcy or gray zone', 'risk of bankruptcy or gray zone', 'nonbankrupt or safe zone', 'nonbankrupt or safe zone', 'nonbankrupt or safe zone', 'nonbankrupt or safe zone', 'nonbankrupt or safe zone', 'nonbankrupt or safe zone', 'nonbankrupt or safe zone', 'nonbankrupt or safe zone', 'nonbankrupt or safe zone', 'nonbankrupt or safe zone', 'nonbankrupt or safe zone', 'nonbankrupt or safe zone', 'risk of bankruptcy or gray zone', 'nonbankrupt or safe zone', 'risk of bankruptcy or gray zone', 'bankrupt or distress zone', 'risk of bankruptcy or gray zone', 'risk of bankruptcy or gray zone', 'nonbankrupt or safe zone', 'nonbankrupt or safe zone', 'nonbankrupt or safe zone', 'nonbankrupt or safe zone', 'nonbankrupt or safe zone', 'nonbankrupt or safe zone', 'nonbankrupt or safe zone', 'nonbankrupt or safe zone', 'nonbankrupt or safe zone', 'nonbankrupt or safe zone', 'bankrupt or distress zone', 'risk of bankruptcy or gray zone', 'risk of bankruptcy or gray zone', 'risk of bankruptcy or gray zone', 'risk of bankruptcy or gray zone', 'risk of bankruptcy or gray zone', 'risk of bankruptcy or gray zone', 'risk of bankruptcy or gray zone', 'risk of bankruptcy or gray zone', 'risk of bankruptcy or gray zone', 'risk of bankruptcy or gray zone', 'risk of bankruptcy or gray zone', 'risk of bankruptcy or gray zone', 'risk of bankruptcy or gray zone', 'nonbankrupt or safe zone', 'nonbankrupt or safe zone', 'nonbankrupt or safe zone', 'nonbankrupt or safe zone', 'nonbankrupt or safe zone', 'nonbankrupt or safe zone', 'nonbankrupt or safe zone', 'nonbankrupt or safe zone', 'nonbankrupt or safe zone', 'risk of bankruptcy or gray zone', 'nonbankrupt or safe zone', 'risk of bankruptcy or gray zone', 'risk of bankruptcy or gray zone', 'risk of bankruptcy or gray zone', 'risk of bankruptcy or gray zone', 'risk of bankruptcy or gray zone', 'risk of bankruptcy or gray zone', 'risk of bankruptcy or gray zone', 'risk of bankruptcy or gray zone', 'bankrupt or distress zone', 'risk of bankruptcy or gray zone', 'risk of bankruptcy or gray zone', 'risk of bankruptcy or gray zone', 'risk of bankruptcy or gray zone', 'bankrupt or distress zone', 'risk of bankruptcy or gray zone', 'nonbankrupt or safe zone', 'nonbankrupt or safe zone', 'nonbankrupt or safe zone', 'nonbankrupt or safe zone', 'nonbankrupt or safe zone', 'nonbankrupt or safe zone', 'nonbankrupt or safe zone', 'nonbankrupt or safe zone', 'nonbankrupt or safe zone', 'nonbankrupt or safe zone', 'bankrupt or distress zone', 'risk of bankruptcy or gray zone', 'risk of bankruptcy or gray zone', 'risk of bankruptcy or gray zone', 'nonbankrupt or safe zone', 'nonbankrupt or safe zone', 'nonbankrupt or safe zone', 'nonbankrupt or safe zone', 'nonbankrupt or safe zone', 'nonbankrupt or safe zone', 'nonbankrupt or safe zone', 'nonbankrupt or safe zone', 'nonbankrupt or safe zone', 'nonbankrupt or safe zone', 'nonbankrupt or safe zone', 'nonbankrupt or safe zone', 'nonbankrupt or safe zone', 'nonbankrupt or safe zone', 'nonbankrupt or safe zone', 'nonbankrupt or safe zone', 'nonbankrupt or safe zone', 'nonbankrupt or safe zone', 'nonbankrupt or safe zone', 'risk of bankruptcy or gray zone', 'risk of bankruptcy or gray zone', 'risk of bankruptcy or gray zone', 'risk of bankruptcy or gray zone', 'risk of bankruptcy or gray zone', 'risk of bankruptcy or gray zone', 'nonbankrupt or safe zone', 'risk of bankruptcy or gray zone', 'risk of bankruptcy or gray zone', 'risk of bankruptcy or gray zone', 'bankrupt or distress zone', 'risk of bankruptcy or gray zone', 'nonbankrupt or safe zone', 'risk of bankruptcy or gray zone', 'risk of bankruptcy or gray zone', 'risk of bankruptcy or gray zone', 'nonbankrupt or safe zone', 'nonbankrupt or safe zone', 'nonbankrupt or safe zone', 'nonbankrupt or safe zone', 'nonbankrupt or safe zone', 'nonbankrupt or safe zone', 'nonbankrupt or safe zone', 'nonbankrupt or safe zone', 'nonbankrupt or safe zone', 'nonbankrupt or safe zone', 'bankrupt or distress zone', 'bankrupt or distress zone', 'bankrupt or distress zone', 'bankrupt or distress zone', 'bankrupt or distress zone', 'bankrupt or distress zone', 'bankrupt or distress zone', 'bankrupt or distress zone', 'bankrupt or distress zone', 'bankrupt or distress zone', 'nonbankrupt or safe zone', 'nonbankrupt or safe zone', 'nonbankrupt or safe zone', 'nonbankrupt or safe zone', 'nonbankrupt or safe zone', 'nonbankrupt or safe zone', 'nonbankrupt or safe zone', 'bankrupt or distress zone', 'risk of bankruptcy or gray zone', 'nonbankrupt or safe zone', 'nonbankrupt or safe zone', 'nonbankrupt or safe zone', 'nonbankrupt or safe zone', 'nonbankrupt or safe zone', 'nonbankrupt or safe zone', 'nonbankrupt or safe zone', 'nonbankrupt or safe zone', 'nonbankrupt or safe zone', 'nonbankrupt or safe zone', 'nonbankrupt or safe zone', 'nonbankrupt or safe zone', 'nonbankrupt or safe zone', 'nonbankrupt or safe zone', 'nonbankrupt or safe zone', 'nonbankrupt or safe zone', 'nonbankrupt or safe zone', 'nonbankrupt or safe zone', 'nonbankrupt or safe zone', 'risk of bankruptcy or gray zone', 'risk of bankruptcy or gray zone', 'risk of bankruptcy or gray zone', 'risk of bankruptcy or gray zone', 'risk of bankruptcy or gray zone', 'risk of bankruptcy or gray zone', 'risk of bankruptcy or gray zone', 'risk of bankruptcy or gray zone', 'risk of bankruptcy or gray zone', 'risk of bankruptcy or gray zone', 'risk of bankruptcy or gray zone', 'risk of bankruptcy or gray zone', 'nonbankrupt or safe zone', 'nonbankrupt or safe zone', 'nonbankrupt or safe zone', 'nonbankrupt or safe zone', 'risk of bankruptcy or gray zone', 'bankrupt or distress zone', 'nonbankrupt or safe zone', 'nonbankrupt or safe zone', 'nonbankrupt or safe zone', 'nonbankrupt or safe zone', 'nonbankrupt or safe zone', 'nonbankrupt or safe zone', 'nonbankrupt or safe zone', 'nonbankrupt or safe zone', 'nonbankrupt or safe zone', 'nonbankrupt or safe zone', 'nonbankrupt or safe zone', 'bankrupt or distress zone', 'bankrupt or distress zone', 'bankrupt or distress zone', 'bankrupt or distress zone', 'bankrupt or distress zone', 'nonbankrupt or safe zone', 'nonbankrupt or safe zone', 'nonbankrupt or safe zone', 'nonbankrupt or safe zone', 'nonbankrupt or safe zone', 'nonbankrupt or safe zone', 'nonbankrupt or safe zone', 'nonbankrupt or safe zone', 'nonbankrupt or safe zone', 'bankrupt or distress zone', 'bankrupt or distress zone', 'nonbankrupt or safe zone', 'nonbankrupt or safe zone', 'nonbankrupt or safe zone', 'nonbankrupt or safe zone', 'nonbankrupt or safe zone', 'risk of bankruptcy or gray zone', 'nonbankrupt or safe zone', 'nonbankrupt or safe zone', 'bankrupt or distress zone', 'bankrupt or distress zone', 'bankrupt or distress zone', 'bankrupt or distress zone', 'bankrupt or distress zone', 'bankrupt or distress zone', 'risk of bankruptcy or gray zone', 'risk of bankruptcy or gray zone', 'risk of bankruptcy or gray zone', 'risk of bankruptcy or gray zone', 'bankrupt or distress zone', 'risk of bankruptcy or gray zone', 'risk of bankruptcy or gray zone', 'bankrupt or distress zone', 'bankrupt or distress zone', 'nonbankrupt or safe zone', 'risk of bankruptcy or gray zone', 'bankrupt or distress zone', 'nonbankrupt or safe zone', 'nonbankrupt or safe zone', 'nonbankrupt or safe zone', 'nonbankrupt or safe zone', 'risk of bankruptcy or gray zone', 'nonbankrupt or safe zone', 'nonbankrupt or safe zone', 'nonbankrupt or safe zone', 'nonbankrupt or safe zone', 'nonbankrupt or safe zone', 'bankrupt or distress zone', 'bankrupt or distress zone', 'nonbankrupt or safe zone', 'nonbankrupt or safe zone', 'nonbankrupt or safe zone', 'nonbankrupt or safe zone', 'bankrupt or distress zone', 'bankrupt or distress zone', 'risk of bankruptcy or gray zone', 'risk of bankruptcy or gray zone', 'risk of bankruptcy or gray zone', 'bankrupt or distress zone', 'risk of bankruptcy or gray zone', 'bankrupt or distress zone', 'bankrupt or distress zone', 'bankrupt or distress zone', 'risk of bankruptcy or gray zone', 'bankrupt or distress zone', 'bankrupt or distress zone', 'risk of bankruptcy or gray zone', 'risk of bankruptcy or gray zone', 'bankrupt or distress zone', 'bankrupt or distress zone', 'bankrupt or distress zone', 'risk of bankruptcy or gray zone', 'bankrupt or distress zone', 'bankrupt or distress zone', 'bankrupt or distress zone', 'bankrupt or distress zone', 'nonbankrupt or safe zone', 'nonbankrupt or safe zone', 'nonbankrupt or safe zone', 'bankrupt or distress zone', 'nonbankrupt or safe zone', 'nonbankrupt or safe zone', 'nonbankrupt or safe zone', 'bankrupt or distress zone', 'bankrupt or distress zone', 'bankrupt or distress zone', 'bankrupt or distress zone', 'bankrupt or distress zone', 'bankrupt or distress zone', 'bankrupt or distress zone', 'bankrupt or distress zone', 'bankrupt or distress zone', 'bankrupt or distress zone', 'bankrupt or distress zone', 'risk of bankruptcy or gray zone', 'risk of bankruptcy or gray zone', 'risk of bankruptcy or gray zone', 'nonbankrupt or safe zone', 'bankrupt or distress zone', 'risk of bankruptcy or gray zone', 'nonbankrupt or safe zone', 'nonbankrupt or safe zone', 'nonbankrupt or safe zone', 'nonbankrupt or safe zone', 'nonbankrupt or safe zone', 'nonbankrupt or safe zone', 'nonbankrupt or safe zone', 'nonbankrupt or safe zone', 'nonbankrupt or safe zone', 'bankrupt or distress zone', 'bankrupt or distress zone', 'nonbankrupt or safe zone', 'nonbankrupt or safe zone', 'risk of bankruptcy or gray zone', 'nonbankrupt or safe zone', 'nonbankrupt or safe zone', 'nonbankrupt or safe zone', 'bankrupt or distress zone', 'nonbankrupt or safe zone', 'nonbankrupt or safe zone', 'nonbankrupt or safe zone', 'nonbankrupt or safe zone', 'risk of bankruptcy or gray zone', 'risk of bankruptcy or gray zone', 'risk of bankruptcy or gray zone', 'risk of bankruptcy or gray zone', 'nonbankrupt or safe zone', 'nonbankrupt or safe zone', 'nonbankrupt or safe zone', 'risk of bankruptcy or gray zone', 'nonbankrupt or safe zone', 'nonbankrupt or safe zone', 'nonbankrupt or safe zone', 'nonbankrupt or safe zone', 'nonbankrupt or safe zone', 'nonbankrupt or safe zone', 'nonbankrupt or safe zone', 'nonbankrupt or safe zone', 'bankrupt or distress zone', 'risk of bankruptcy or gray zone', 'nonbankrupt or safe zone', 'bankrupt or distress zone', 'bankrupt or distress zone', 'bankrupt or distress zone', 'bankrupt or distress zone', 'nonbankrupt or safe zone', 'nonbankrupt or safe zone', 'nonbankrupt or safe zone', 'nonbankrupt or safe zone', 'nonbankrupt or safe zone', 'nonbankrupt or safe zone', 'nonbankrupt or safe zone', 'nonbankrupt or safe zone', 'nonbankrupt or safe zone', 'nonbankrupt or safe zone', 'nonbankrupt or safe zone', 'nonbankrupt or safe zone', 'nonbankrupt or safe zone', 'nonbankrupt or safe zone', 'nonbankrupt or safe zone', 'nonbankrupt or safe zone', 'nonbankrupt or safe zone', 'nonbankrupt or safe zone', 'nonbankrupt or safe zone', 'nonbankrupt or safe zone', 'nonbankrupt or safe zone', 'nonbankrupt or safe zone', 'nonbankrupt or safe zone', 'nonbankrupt or safe zone', 'nonbankrupt or safe zone', 'nonbankrupt or safe zone', 'nonbankrupt or safe zone', 'nonbankrupt or safe zone', 'nonbankrupt or safe zone', 'nonbankrupt or safe zone', 'nonbankrupt or safe zone', 'nonbankrupt or safe zone', 'nonbankrupt or safe zone', 'risk of bankruptcy or gray zone', 'nonbankrupt or safe zone', 'nonbankrupt or safe zone', 'bankrupt or distress zone', 'bankrupt or distress zone', 'risk of bankruptcy or gray zone', 'risk of bankruptcy or gray zone', 'risk of bankruptcy or gray zone', 'risk of bankruptcy or gray zone', 'bankrupt or distress zone', 'bankrupt or distress zone', 'bankrupt or distress zone', 'risk of bankruptcy or gray zone', 'risk of bankruptcy or gray zone', 'bankrupt or distress zone', 'bankrupt or distress zone', 'risk of bankruptcy or gray zone', 'risk of bankruptcy or gray zone', 'risk of bankruptcy or gray zone', 'nonbankrupt or safe zone', 'nonbankrupt or safe zone', 'nonbankrupt or safe zone', 'nonbankrupt or safe zone', 'bankrupt or distress zone', 'nonbankrupt or safe zone', 'nonbankrupt or safe zone', 'nonbankrupt or safe zone', 'nonbankrupt or safe zone', 'nonbankrupt or safe zone', 'nonbankrupt or safe zone', 'nonbankrupt or safe zone', 'bankrupt or distress zone', 'nonbankrupt or safe zone', 'nonbankrupt or safe zone', 'risk of bankruptcy or gray zone', 'bankrupt or distress zone', 'bankrupt or distress zone', 'bankrupt or distress zone', 'risk of bankruptcy or gray zone', 'risk of bankruptcy or gray zone', 'risk of bankruptcy or gray zone', 'risk of bankruptcy or gray zone', 'nonbankrupt or safe zone', 'nonbankrupt or safe zone', 'nonbankrupt or safe zone', 'nonbankrupt or safe zone', 'nonbankrupt or safe zone', 'nonbankrupt or safe zone', 'nonbankrupt or safe zone', 'nonbankrupt or safe zone', 'nonbankrupt or safe zone', 'nonbankrupt or safe zone', 'nonbankrupt or safe zone', 'nonbankrupt or safe zone', 'nonbankrupt or safe zone', 'nonbankrupt or safe zone', 'nonbankrupt or safe zone', 'nonbankrupt or safe zone', 'nonbankrupt or safe zone', 'bankrupt or distress zone', 'nonbankrupt or safe zone', 'nonbankrupt or safe zone', 'risk of bankruptcy or gray zone', 'risk of bankruptcy or gray zone', 'nonbankrupt or safe zone', 'nonbankrupt or safe zone', 'nonbankrupt or safe zone', 'nonbankrupt or safe zone', 'nonbankrupt or safe zone', 'nonbankrupt or safe zone', 'nonbankrupt or safe zone', 'nonbankrupt or safe zone', 'risk of bankruptcy or gray zone', 'bankrupt or distress zone', 'risk of bankruptcy or gray zone', 'nonbankrupt or safe zone', 'risk of bankruptcy or gray zone', 'nonbankrupt or safe zone', 'nonbankrupt or safe zone', 'bankrupt or distress zone', 'bankrupt or distress zone', 'bankrupt or distress zone', 'bankrupt or distress zone', 'bankrupt or distress zone', 'bankrupt or distress zone', 'bankrupt or distress zone', 'bankrupt or distress zone', 'bankrupt or distress zone', 'nonbankrupt or safe zone', 'nonbankrupt or safe zone', 'nonbankrupt or safe zone', 'nonbankrupt or safe zone', 'nonbankrupt or safe zone', 'nonbankrupt or safe zone', 'nonbankrupt or safe zone', 'nonbankrupt or safe zone', 'nonbankrupt or safe zone', 'nonbankrupt or safe zone', 'risk of bankruptcy or gray zone', 'bankrupt or distress zone', 'risk of bankruptcy or gray zone', 'risk of bankruptcy or gray zone', 'risk of bankruptcy or gray zone', 'bankrupt or distress zone', 'risk of bankruptcy or gray zone', 'risk of bankruptcy or gray zone', 'bankrupt or distress zone', 'bankrupt or distress zone', 'nonbankrupt or safe zone', 'nonbankrupt or safe zone', 'nonbankrupt or safe zone', 'nonbankrupt or safe zone', 'nonbankrupt or safe zone', 'nonbankrupt or safe zone', 'nonbankrupt or safe zone', 'nonbankrupt or safe zone', 'nonbankrupt or safe zone', 'nonbankrupt or safe zone', 'nonbankrupt or safe zone', 'nonbankrupt or safe zone', 'nonbankrupt or safe zone', 'nonbankrupt or safe zone', 'nonbankrupt or safe zone', 'nonbankrupt or safe zone', 'nonbankrupt or safe zone', 'nonbankrupt or safe zone', 'nonbankrupt or safe zone', 'nonbankrupt or safe zone', 'nonbankrupt or safe zone', 'nonbankrupt or safe zone', 'nonbankrupt or safe zone', 'nonbankrupt or safe zone', 'nonbankrupt or safe zone', 'nonbankrupt or safe zone', 'nonbankrupt or safe zone', 'bankrupt or distress zone', 'risk of bankruptcy or gray zone', 'risk of bankruptcy or gray zone', 'risk of bankruptcy or gray zone', 'nonbankrupt or safe zone', 'risk of bankruptcy or gray zone']\n"
     ]
    }
   ],
   "source": [
    "# Define an empty list.\n",
    "# Loop through rows in 'Z' column, test value against condition, add the judgement label elemtent to the list. \n",
    "BK = []\n",
    "for row in Altman['Z']:\n",
    "    if row<1.80 : BK.append('bankrupt or distress zone')                    # if condition is self evident.\n",
    "    elif row<3.0 : BK.append('risk of bankruptcy or gray zone')\n",
    "    else: BK.append('nonbankrupt or safe zone')\n",
    "        \n",
    "print(BK)   # print the list."
   ]
  },
  {
   "cell_type": "code",
   "execution_count": 8,
   "metadata": {
    "scrolled": true
   },
   "outputs": [
    {
     "name": "stdout",
     "output_type": "stream",
     "text": [
      "       gvkey                       conm  fyear       act        at     ebit  \\\n",
      "0      24218     CALLOWAY'S NURSERY INC   2012     8.038    23.143    2.371   \n",
      "1      14225                FASTENAL CO   2009   982.364  1327.358  296.643   \n",
      "2      14225                FASTENAL CO   2010  1085.698  1468.283  429.724   \n",
      "3      14225                FASTENAL CO   2011  1236.138  1684.948  574.803   \n",
      "4      14225                FASTENAL CO   2012  1286.656  1815.832  673.288   \n",
      "...      ...                        ...    ...       ...       ...      ...   \n",
      "2324  175532  WESTERN CAPITAL RESOURCES   2013    10.368    24.439    2.937   \n",
      "2325  175532  WESTERN CAPITAL RESOURCES   2014    15.160    36.762    4.271   \n",
      "2326  175532  WESTERN CAPITAL RESOURCES   2015    25.466    56.185    6.591   \n",
      "2327  175532  WESTERN CAPITAL RESOURCES   2016    33.138    60.211   10.407   \n",
      "2328  175532  WESTERN CAPITAL RESOURCES   2017    75.039   104.244    2.464   \n",
      "\n",
      "          lct       lt       ni        re      sale         ME        X1  \\\n",
      "0       5.697   15.954    0.609    -2.489    45.551      6.260  0.101154   \n",
      "1     119.509  136.515  184.357  1189.036  1930.330   6139.027  0.650054   \n",
      "2     162.185  185.771  265.356  1276.675  2269.471   8832.591  0.628975   \n",
      "3     187.818  225.972  357.929  1439.167  2766.859  12876.245  0.622168   \n",
      "4     204.174  255.472  420.536  1495.958  3133.577  13834.711  0.596136   \n",
      "...       ...      ...      ...       ...       ...        ...       ...   \n",
      "2324    5.957    7.113    1.620    -5.028    32.889      7.226  0.180490   \n",
      "2325   10.962   16.672    2.406    -2.622    40.760     19.793  0.114194   \n",
      "2326   18.665   26.326    3.520     0.898    76.454     33.243  0.121047   \n",
      "2327   18.828   29.522    1.458     1.644   109.187     47.490  0.237664   \n",
      "2328   33.156   35.550   37.679    37.903   121.521     44.607  0.401779   \n",
      "\n",
      "            X2        X3         X4        X5          Z  \\\n",
      "0    -0.107549  0.102450   0.392378  1.968241   2.512569   \n",
      "1     0.895791  0.223484  44.969615  1.454265  31.207704   \n",
      "2     0.869502  0.292671  47.545586  1.545663  33.010902   \n",
      "3     0.854131  0.341140  56.981595  1.642103  38.899207   \n",
      "4     0.823842  0.370788  54.153532  1.725698  37.310157   \n",
      "...        ...       ...        ...       ...        ...   \n",
      "2324 -0.205737  0.120177   1.015886  1.345759   2.280431   \n",
      "2325 -0.071324  0.116180   1.187200  1.108754   2.241647   \n",
      "2326  0.015983  0.117309   1.262744  1.360755   2.673152   \n",
      "2327  0.027304  0.172842   1.608631  1.813406   3.672386   \n",
      "2328  0.363599  0.023637   1.254768  1.165736   2.987771   \n",
      "\n",
      "                                   BK  \n",
      "0     risk of bankruptcy or gray zone  \n",
      "1            nonbankrupt or safe zone  \n",
      "2            nonbankrupt or safe zone  \n",
      "3            nonbankrupt or safe zone  \n",
      "4            nonbankrupt or safe zone  \n",
      "...                               ...  \n",
      "2324  risk of bankruptcy or gray zone  \n",
      "2325  risk of bankruptcy or gray zone  \n",
      "2326  risk of bankruptcy or gray zone  \n",
      "2327         nonbankrupt or safe zone  \n",
      "2328  risk of bankruptcy or gray zone  \n",
      "\n",
      "[2329 rows x 19 columns]\n"
     ]
    }
   ],
   "source": [
    "# COLUMN ADD-IN: Add another column for the bankruptcy groups. \n",
    "Altman['BK'] = BK\n",
    "print(Altman)"
   ]
  },
  {
   "cell_type": "code",
   "execution_count": 9,
   "metadata": {},
   "outputs": [
    {
     "name": "stdout",
     "output_type": "stream",
     "text": [
      "BK\n",
      "bankrupt or distress zone           305\n",
      "nonbankrupt or safe zone           1508\n",
      "risk of bankruptcy or gray zone     516\n",
      "dtype: int64\n"
     ]
    }
   ],
   "source": [
    "# Group each bankruptcy prediction pool. Display count/size of each label. \n",
    "group1=Altman.groupby('BK').size()\n",
    "print(group1)\n",
    "\n",
    "# INSIGHT: 305 companies are at risk for bankruptcy in the next 2 years.\n",
    "# INSIGHT: The Z-Altman score is only for predicting short-term risk of bankruptcy within 2 years in the future.\n",
    "# INSIGHT: 305 companies have high debts and low current assets to cover debts.  "
   ]
  },
  {
   "cell_type": "code",
   "execution_count": 10,
   "metadata": {},
   "outputs": [],
   "source": [
    "# Write the Z-score groupings data to Excel file. Create a new worksheet. \n",
    "with pd.ExcelWriter('Lab 3 Data.xlsx', engine='openpyxl', mode='r+', if_sheet_exists='replace') as writer:\n",
    "    group1.to_excel(writer, 'Sheet2')"
   ]
  },
  {
   "cell_type": "code",
   "execution_count": 11,
   "metadata": {},
   "outputs": [],
   "source": [
    "# Write the Z-scores data to file. Create another worksheet.  \n",
    "with pd.ExcelWriter('Lab 3 Data.xlsx', engine='openpyxl', mode='r+', if_sheet_exists='replace') as writer:\n",
    "    Altman.to_excel(writer, 'Sheet3')"
   ]
  },
  {
   "cell_type": "code",
   "execution_count": null,
   "metadata": {},
   "outputs": [],
   "source": []
  }
 ],
 "metadata": {
  "kernelspec": {
   "display_name": "Python 3",
   "language": "python",
   "name": "python3"
  },
  "language_info": {
   "codemirror_mode": {
    "name": "ipython",
    "version": 3
   },
   "file_extension": ".py",
   "mimetype": "text/x-python",
   "name": "python",
   "nbconvert_exporter": "python",
   "pygments_lexer": "ipython3",
   "version": "3.8.8"
  }
 },
 "nbformat": 4,
 "nbformat_minor": 4
}

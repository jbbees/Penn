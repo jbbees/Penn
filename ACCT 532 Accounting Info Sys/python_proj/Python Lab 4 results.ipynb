{
 "cells": [
  {
   "cell_type": "code",
   "execution_count": 1,
   "metadata": {
    "scrolled": true
   },
   "outputs": [
    {
     "name": "stdout",
     "output_type": "stream",
     "text": [
      "C:\\Users\\jakel\\Desktop\\python_proj\n",
      "C:\\Users\\jakel\\Desktop\\python_proj\n"
     ]
    }
   ],
   "source": [
    "import os\n",
    "print(os.getcwd())\n",
    "\n",
    "os.chdir('C:\\\\Users\\\\jakel\\\\Desktop\\\\python_proj')\n",
    "print (os.getcwd())"
   ]
  },
  {
   "cell_type": "code",
   "execution_count": 2,
   "metadata": {
    "scrolled": true
   },
   "outputs": [
    {
     "data": {
      "text/html": [
       "<div>\n",
       "<style scoped>\n",
       "    .dataframe tbody tr th:only-of-type {\n",
       "        vertical-align: middle;\n",
       "    }\n",
       "\n",
       "    .dataframe tbody tr th {\n",
       "        vertical-align: top;\n",
       "    }\n",
       "\n",
       "    .dataframe thead th {\n",
       "        text-align: right;\n",
       "    }\n",
       "</style>\n",
       "<table border=\"1\" class=\"dataframe\">\n",
       "  <thead>\n",
       "    <tr style=\"text-align: right;\">\n",
       "      <th></th>\n",
       "      <th>Unnamed: 0</th>\n",
       "      <th>Jan</th>\n",
       "      <th>Feb</th>\n",
       "      <th>March</th>\n",
       "      <th>April</th>\n",
       "      <th>May</th>\n",
       "      <th>June</th>\n",
       "      <th>July</th>\n",
       "      <th>Aug</th>\n",
       "      <th>Sep</th>\n",
       "      <th>Oct</th>\n",
       "      <th>Nov</th>\n",
       "      <th>Dec</th>\n",
       "    </tr>\n",
       "  </thead>\n",
       "  <tbody>\n",
       "    <tr>\n",
       "      <th>0</th>\n",
       "      <td>Price</td>\n",
       "      <td>7.0</td>\n",
       "      <td>7.0</td>\n",
       "      <td>7.0</td>\n",
       "      <td>7.0</td>\n",
       "      <td>7.0</td>\n",
       "      <td>7.0</td>\n",
       "      <td>7.0</td>\n",
       "      <td>7.0</td>\n",
       "      <td>7.0</td>\n",
       "      <td>7.0</td>\n",
       "      <td>7.0</td>\n",
       "      <td>7.0</td>\n",
       "    </tr>\n",
       "    <tr>\n",
       "      <th>1</th>\n",
       "      <td>Unit of sales</td>\n",
       "      <td>300.0</td>\n",
       "      <td>300.0</td>\n",
       "      <td>300.0</td>\n",
       "      <td>300.0</td>\n",
       "      <td>300.0</td>\n",
       "      <td>300.0</td>\n",
       "      <td>300.0</td>\n",
       "      <td>300.0</td>\n",
       "      <td>300.0</td>\n",
       "      <td>300.0</td>\n",
       "      <td>300.0</td>\n",
       "      <td>300.0</td>\n",
       "    </tr>\n",
       "    <tr>\n",
       "      <th>2</th>\n",
       "      <td>Unit cost</td>\n",
       "      <td>4.5</td>\n",
       "      <td>3.8</td>\n",
       "      <td>3.8</td>\n",
       "      <td>3.8</td>\n",
       "      <td>3.5</td>\n",
       "      <td>3.5</td>\n",
       "      <td>3.0</td>\n",
       "      <td>3.0</td>\n",
       "      <td>3.0</td>\n",
       "      <td>4.0</td>\n",
       "      <td>4.5</td>\n",
       "      <td>4.5</td>\n",
       "    </tr>\n",
       "    <tr>\n",
       "      <th>3</th>\n",
       "      <td>Fixed cost</td>\n",
       "      <td>1000.0</td>\n",
       "      <td>1000.0</td>\n",
       "      <td>1000.0</td>\n",
       "      <td>1000.0</td>\n",
       "      <td>1000.0</td>\n",
       "      <td>1000.0</td>\n",
       "      <td>1000.0</td>\n",
       "      <td>1000.0</td>\n",
       "      <td>1000.0</td>\n",
       "      <td>1000.0</td>\n",
       "      <td>1000.0</td>\n",
       "      <td>1000.0</td>\n",
       "    </tr>\n",
       "    <tr>\n",
       "      <th>4</th>\n",
       "      <td>Variable cost</td>\n",
       "      <td>NaN</td>\n",
       "      <td>NaN</td>\n",
       "      <td>NaN</td>\n",
       "      <td>NaN</td>\n",
       "      <td>NaN</td>\n",
       "      <td>NaN</td>\n",
       "      <td>NaN</td>\n",
       "      <td>NaN</td>\n",
       "      <td>NaN</td>\n",
       "      <td>NaN</td>\n",
       "      <td>NaN</td>\n",
       "      <td>NaN</td>\n",
       "    </tr>\n",
       "  </tbody>\n",
       "</table>\n",
       "</div>"
      ],
      "text/plain": [
       "      Unnamed: 0     Jan     Feb   March  April     May     June   July   \\\n",
       "0          Price     7.0     7.0     7.0     7.0     7.0     7.0     7.0   \n",
       "1  Unit of sales   300.0   300.0   300.0   300.0   300.0   300.0   300.0   \n",
       "2      Unit cost     4.5     3.8     3.8     3.8     3.5     3.5     3.0   \n",
       "3     Fixed cost  1000.0  1000.0  1000.0  1000.0  1000.0  1000.0  1000.0   \n",
       "4  Variable cost     NaN     NaN     NaN     NaN     NaN     NaN     NaN   \n",
       "\n",
       "      Aug     Sep     Oct     Nov     Dec  \n",
       "0     7.0     7.0     7.0     7.0     7.0  \n",
       "1   300.0   300.0   300.0   300.0   300.0  \n",
       "2     3.0     3.0     4.0     4.5     4.5  \n",
       "3  1000.0  1000.0  1000.0  1000.0  1000.0  \n",
       "4     NaN     NaN     NaN     NaN     NaN  "
      ]
     },
     "execution_count": 2,
     "metadata": {},
     "output_type": "execute_result"
    }
   ],
   "source": [
    "import pandas as pd     # import dataframe package. \n",
    "\n",
    "BE = pd.read_excel (r'Lab 4 Data.xlsx', sheet_name='Sheet1')      # read in a dataframne.\n",
    "\n",
    "BE.head(5)   # display first 5 rows. \n",
    "\n",
    "#INSIGHT: Not a helpful raw data presentation. You want business metrics to be the column attributes. "
   ]
  },
  {
   "cell_type": "code",
   "execution_count": 3,
   "metadata": {},
   "outputs": [
    {
     "name": "stdout",
     "output_type": "stream",
     "text": [
      "                0              1          2           3              4  \\\n",
      "Unnamed: 0  Price  Unit of sales  Unit cost  Fixed cost  Variable cost   \n",
      "Jan           7.0          300.0        4.5      1000.0            NaN   \n",
      "Feb           7.0          300.0        3.8      1000.0            NaN   \n",
      "March         7.0          300.0        3.8      1000.0            NaN   \n",
      "April         7.0          300.0        3.8      1000.0            NaN   \n",
      "May           7.0          300.0        3.5      1000.0            NaN   \n",
      "June          7.0          300.0        3.5      1000.0            NaN   \n",
      "July          7.0          300.0        3.0      1000.0            NaN   \n",
      "Aug           7.0          300.0        3.0      1000.0            NaN   \n",
      "Sep           7.0          300.0        3.0      1000.0            NaN   \n",
      "Oct           7.0          300.0        4.0      1000.0            NaN   \n",
      "Nov           7.0          300.0        4.5      1000.0            NaN   \n",
      "Dec           7.0          300.0        4.5      1000.0            NaN   \n",
      "\n",
      "                     5              6           7  \n",
      "Unnamed: 0  Total cost  Sales revenue  Net income  \n",
      "Jan                NaN            NaN         NaN  \n",
      "Feb                NaN            NaN         NaN  \n",
      "March              NaN            NaN         NaN  \n",
      "April              NaN            NaN         NaN  \n",
      "May                NaN            NaN         NaN  \n",
      "June               NaN            NaN         NaN  \n",
      "July               NaN            NaN         NaN  \n",
      "Aug                NaN            NaN         NaN  \n",
      "Sep                NaN            NaN         NaN  \n",
      "Oct                NaN            NaN         NaN  \n",
      "Nov                NaN            NaN         NaN  \n",
      "Dec                NaN            NaN         NaN  \n"
     ]
    }
   ],
   "source": [
    "# Make a copy of dataframe. BE_t. Perform data manipulation. \n",
    "# Copying a dataframe declare a variable = dataframe_name. Any manipulation feature will be a .feature_name() \n",
    "\n",
    "BE_t = BE.transpose()  # Tranpose the months to be rows, and business metrics will become columns. Store in new dataframe.\n",
    "print(BE_t)            # display the new data output. columns and rows switched. \n",
    "\n",
    "# INSIGHT: When doing any modiciation of a dataframe. Store the changes in a COPY of the dataframe. That we can keep the raw source data as-is."
   ]
  },
  {
   "cell_type": "code",
   "execution_count": 4,
   "metadata": {},
   "outputs": [
    {
     "name": "stdout",
     "output_type": "stream",
     "text": [
      "Unnamed: 0  Price  Unit of sales  Unit cost  Fixed cost  Variable cost  \\\n",
      "Unnamed: 0  Price  Unit of sales  Unit cost  Fixed cost  Variable cost   \n",
      "Jan           7.0          300.0        4.5      1000.0            NaN   \n",
      "Feb           7.0          300.0        3.8      1000.0            NaN   \n",
      "March         7.0          300.0        3.8      1000.0            NaN   \n",
      "April         7.0          300.0        3.8      1000.0            NaN   \n",
      "May           7.0          300.0        3.5      1000.0            NaN   \n",
      "June          7.0          300.0        3.5      1000.0            NaN   \n",
      "July          7.0          300.0        3.0      1000.0            NaN   \n",
      "Aug           7.0          300.0        3.0      1000.0            NaN   \n",
      "Sep           7.0          300.0        3.0      1000.0            NaN   \n",
      "Oct           7.0          300.0        4.0      1000.0            NaN   \n",
      "Nov           7.0          300.0        4.5      1000.0            NaN   \n",
      "Dec           7.0          300.0        4.5      1000.0            NaN   \n",
      "\n",
      "Unnamed: 0  Total cost  Sales revenue  Net income  \n",
      "Unnamed: 0  Total cost  Sales revenue  Net income  \n",
      "Jan                NaN            NaN         NaN  \n",
      "Feb                NaN            NaN         NaN  \n",
      "March              NaN            NaN         NaN  \n",
      "April              NaN            NaN         NaN  \n",
      "May                NaN            NaN         NaN  \n",
      "June               NaN            NaN         NaN  \n",
      "July               NaN            NaN         NaN  \n",
      "Aug                NaN            NaN         NaN  \n",
      "Sep                NaN            NaN         NaN  \n",
      "Oct                NaN            NaN         NaN  \n",
      "Nov                NaN            NaN         NaN  \n",
      "Dec                NaN            NaN         NaN  \n"
     ]
    }
   ],
   "source": [
    "# We want to get rid of the Unnamed column at the 0th pos. \n",
    "# 0th columns are index columns, and not considered a column within the dataframe. Can't be altered/dropped unless reset_index() \n",
    "\n",
    "BE_t.columns = BE_t.iloc[0]    # iloc (I locate) looks up rows, and columns in a dataframe based on index position. \n",
    "print(BE_t)"
   ]
  },
  {
   "cell_type": "code",
   "execution_count": 5,
   "metadata": {},
   "outputs": [
    {
     "name": "stdout",
     "output_type": "stream",
     "text": [
      "Unnamed: 0       index  Price  Unit of sales  Unit cost  Fixed cost  \\\n",
      "0           Unnamed: 0  Price  Unit of sales  Unit cost  Fixed cost   \n",
      "1                  Jan    7.0          300.0        4.5      1000.0   \n",
      "2                  Feb    7.0          300.0        3.8      1000.0   \n",
      "3                March    7.0          300.0        3.8      1000.0   \n",
      "4               April     7.0          300.0        3.8      1000.0   \n",
      "5                 May     7.0          300.0        3.5      1000.0   \n",
      "6                 June    7.0          300.0        3.5      1000.0   \n",
      "7                July     7.0          300.0        3.0      1000.0   \n",
      "8                  Aug    7.0          300.0        3.0      1000.0   \n",
      "9                  Sep    7.0          300.0        3.0      1000.0   \n",
      "10                 Oct    7.0          300.0        4.0      1000.0   \n",
      "11                 Nov    7.0          300.0        4.5      1000.0   \n",
      "12                 Dec    7.0          300.0        4.5      1000.0   \n",
      "\n",
      "Unnamed: 0  Variable cost  Total cost  Sales revenue  Net income  \n",
      "0           Variable cost  Total cost  Sales revenue  Net income  \n",
      "1                     NaN         NaN            NaN         NaN  \n",
      "2                     NaN         NaN            NaN         NaN  \n",
      "3                     NaN         NaN            NaN         NaN  \n",
      "4                     NaN         NaN            NaN         NaN  \n",
      "5                     NaN         NaN            NaN         NaN  \n",
      "6                     NaN         NaN            NaN         NaN  \n",
      "7                     NaN         NaN            NaN         NaN  \n",
      "8                     NaN         NaN            NaN         NaN  \n",
      "9                     NaN         NaN            NaN         NaN  \n",
      "10                    NaN         NaN            NaN         NaN  \n",
      "11                    NaN         NaN            NaN         NaN  \n",
      "12                    NaN         NaN            NaN         NaN  \n"
     ]
    }
   ],
   "source": [
    "# Remove the indeX/primary key from dataframe.\n",
    "BE_t1 = BE_t.reset_index()   \n",
    "print(BE_t1)\n",
    "\n",
    "# INSIGHT: reset_index() does not drop a column. It removes the primary key col of the dataframe. \n",
    "# INSIGHT: we use reset_index() because we will be dropping the column. Index columns cannot be dropped in pandas without reset."
   ]
  },
  {
   "cell_type": "code",
   "execution_count": 6,
   "metadata": {},
   "outputs": [
    {
     "name": "stdout",
     "output_type": "stream",
     "text": [
      "Unnamed: 0   index Price Unit of sales Unit cost Fixed cost Variable cost  \\\n",
      "1              Jan   7.0         300.0       4.5     1000.0           NaN   \n",
      "2              Feb   7.0         300.0       3.8     1000.0           NaN   \n",
      "3            March   7.0         300.0       3.8     1000.0           NaN   \n",
      "4           April    7.0         300.0       3.8     1000.0           NaN   \n",
      "5             May    7.0         300.0       3.5     1000.0           NaN   \n",
      "6             June   7.0         300.0       3.5     1000.0           NaN   \n",
      "7            July    7.0         300.0       3.0     1000.0           NaN   \n",
      "8              Aug   7.0         300.0       3.0     1000.0           NaN   \n",
      "9              Sep   7.0         300.0       3.0     1000.0           NaN   \n",
      "10             Oct   7.0         300.0       4.0     1000.0           NaN   \n",
      "11             Nov   7.0         300.0       4.5     1000.0           NaN   \n",
      "12             Dec   7.0         300.0       4.5     1000.0           NaN   \n",
      "\n",
      "Unnamed: 0 Total cost Sales revenue Net income  \n",
      "1                 NaN           NaN        NaN  \n",
      "2                 NaN           NaN        NaN  \n",
      "3                 NaN           NaN        NaN  \n",
      "4                 NaN           NaN        NaN  \n",
      "5                 NaN           NaN        NaN  \n",
      "6                 NaN           NaN        NaN  \n",
      "7                 NaN           NaN        NaN  \n",
      "8                 NaN           NaN        NaN  \n",
      "9                 NaN           NaN        NaN  \n",
      "10                NaN           NaN        NaN  \n",
      "11                NaN           NaN        NaN  \n",
      "12                NaN           NaN        NaN  \n"
     ]
    }
   ],
   "source": [
    "# Make a copy of the copied dataframe.\n",
    "# Drop the 0th index column. Store in a second copied dataframe BE_t2 \n",
    "BE_t2 = BE_t1.drop(0)\n",
    "print(BE_t2)"
   ]
  },
  {
   "cell_type": "code",
   "execution_count": 7,
   "metadata": {},
   "outputs": [
    {
     "name": "stdout",
     "output_type": "stream",
     "text": [
      "Unnamed: 0   index Price Unit of sales Unit cost Fixed cost Variable cost  \\\n",
      "1              Jan   7.0         300.0       4.5     1000.0        1350.0   \n",
      "2              Feb   7.0         300.0       3.8     1000.0        1140.0   \n",
      "3            March   7.0         300.0       3.8     1000.0        1140.0   \n",
      "4           April    7.0         300.0       3.8     1000.0        1140.0   \n",
      "5             May    7.0         300.0       3.5     1000.0        1050.0   \n",
      "6             June   7.0         300.0       3.5     1000.0        1050.0   \n",
      "7            July    7.0         300.0       3.0     1000.0         900.0   \n",
      "8              Aug   7.0         300.0       3.0     1000.0         900.0   \n",
      "9              Sep   7.0         300.0       3.0     1000.0         900.0   \n",
      "10             Oct   7.0         300.0       4.0     1000.0        1200.0   \n",
      "11             Nov   7.0         300.0       4.5     1000.0        1350.0   \n",
      "12             Dec   7.0         300.0       4.5     1000.0        1350.0   \n",
      "\n",
      "Unnamed: 0 Total cost Sales revenue Net income  \n",
      "1              2350.0        2100.0     -250.0  \n",
      "2              2140.0        2100.0      -40.0  \n",
      "3              2140.0        2100.0      -40.0  \n",
      "4              2140.0        2100.0      -40.0  \n",
      "5              2050.0        2100.0       50.0  \n",
      "6              2050.0        2100.0       50.0  \n",
      "7              1900.0        2100.0      200.0  \n",
      "8              1900.0        2100.0      200.0  \n",
      "9              1900.0        2100.0      200.0  \n",
      "10             2200.0        2100.0     -100.0  \n",
      "11             2350.0        2100.0     -250.0  \n",
      "12             2350.0        2100.0     -250.0  \n"
     ]
    }
   ],
   "source": [
    "# COLUMN ADD-INS for second dataframe BE_t2. \n",
    "BE_t2['Variable cost'] = BE_t2['Unit of sales']*BE_t2['Unit cost']    # Variable cost column = Unit sales * unit cost\n",
    "BE_t2['Total cost'] = BE_t2['Fixed cost'] + BE_t2['Variable cost']    # Total cost column = Fixed cost * variable cost\n",
    "BE_t2['Sales revenue'] = BE_t2['Price']*BE_t2['Unit of sales']        # Sales revenue column = Price * Unit of sales\n",
    "BE_t2['Net income'] = BE_t2['Sales revenue'] - BE_t2['Total cost']    # NI income = sales * total cost\n",
    "print(BE_t2)"
   ]
  },
  {
   "cell_type": "code",
   "execution_count": 8,
   "metadata": {},
   "outputs": [
    {
     "name": "stdout",
     "output_type": "stream",
     "text": [
      "Unnamed: 0   index Price Unit of sales Unit cost Fixed cost Variable cost  \\\n",
      "1              Jan   7.0         300.0       4.5     1000.0        1350.0   \n",
      "2              Feb   7.0         300.0       3.8     1000.0        1140.0   \n",
      "3            March   7.0         300.0       3.8     1000.0        1140.0   \n",
      "4           April    7.0         300.0       3.8     1000.0        1140.0   \n",
      "5             May    7.0         300.0       3.5     1000.0        1050.0   \n",
      "6             June   7.0         300.0       3.5     1000.0        1050.0   \n",
      "7            July    7.0         300.0       3.0     1000.0         900.0   \n",
      "8              Aug   7.0         300.0       3.0     1000.0         900.0   \n",
      "9              Sep   7.0         300.0       3.0     1000.0         900.0   \n",
      "10             Oct   7.0         300.0       4.0     1000.0        1200.0   \n",
      "11             Nov   7.0         300.0       4.5     1000.0        1350.0   \n",
      "12             Dec   7.0         300.0       4.5     1000.0        1350.0   \n",
      "\n",
      "Unnamed: 0 Total cost Sales revenue Net income  Break_even  \n",
      "1              2350.0        2100.0     -250.0       400.0  \n",
      "2              2140.0        2100.0      -40.0       312.5  \n",
      "3              2140.0        2100.0      -40.0       312.5  \n",
      "4              2140.0        2100.0      -40.0       312.5  \n",
      "5              2050.0        2100.0       50.0  285.714286  \n",
      "6              2050.0        2100.0       50.0  285.714286  \n",
      "7              1900.0        2100.0      200.0       250.0  \n",
      "8              1900.0        2100.0      200.0       250.0  \n",
      "9              1900.0        2100.0      200.0       250.0  \n",
      "10             2200.0        2100.0     -100.0  333.333333  \n",
      "11             2350.0        2100.0     -250.0       400.0  \n",
      "12             2350.0        2100.0     -250.0       400.0  \n"
     ]
    }
   ],
   "source": [
    "# COLUMN ADD-IN: Calculate break even metric.\n",
    "BE_t2['Break_even'] = BE_t2['Fixed cost']/(BE_t2['Price']-BE_t2['Unit cost'])\n",
    "print(BE_t2)"
   ]
  },
  {
   "cell_type": "code",
   "execution_count": 9,
   "metadata": {},
   "outputs": [],
   "source": [
    "# FINAL: Write the final modified data to Excel file. Create a new worksheet. \n",
    "with pd.ExcelWriter('Lab 4 Data.xlsx', engine='openpyxl', mode='r+', if_sheet_exists='replace') as writer:\n",
    "    BE_t2.to_excel(writer, 'Sheet2')"
   ]
  },
  {
   "cell_type": "code",
   "execution_count": null,
   "metadata": {},
   "outputs": [],
   "source": []
  }
 ],
 "metadata": {
  "kernelspec": {
   "display_name": "Python 3",
   "language": "python",
   "name": "python3"
  },
  "language_info": {
   "codemirror_mode": {
    "name": "ipython",
    "version": 3
   },
   "file_extension": ".py",
   "mimetype": "text/x-python",
   "name": "python",
   "nbconvert_exporter": "python",
   "pygments_lexer": "ipython3",
   "version": "3.8.8"
  }
 },
 "nbformat": 4,
 "nbformat_minor": 4
}
